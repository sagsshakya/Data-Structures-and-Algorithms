{
  "nbformat": 4,
  "nbformat_minor": 0,
  "metadata": {
    "colab": {
      "name": "Hash Maps.ipynb",
      "provenance": [],
      "collapsed_sections": [],
      "authorship_tag": "ABX9TyPhoDIjelZsQSe62hModVqD",
      "include_colab_link": true
    },
    "kernelspec": {
      "name": "python3",
      "display_name": "Python 3"
    }
  },
  "cells": [
    {
      "cell_type": "markdown",
      "metadata": {
        "id": "view-in-github",
        "colab_type": "text"
      },
      "source": [
        "<a href=\"https://colab.research.google.com/github/sagsshakya/Data-Structures-and-Algorithms/blob/master/Data%20Structures/Hash_Maps.ipynb\" target=\"_parent\"><img src=\"https://colab.research.google.com/assets/colab-badge.svg\" alt=\"Open In Colab\"/></a>"
      ]
    },
    {
      "cell_type": "code",
      "metadata": {
        "id": "-7a-BJmZjaF3"
      },
      "source": [
        "def get_hash(key, memory_size):\n",
        "    '''Sums up the ASCII values of all the characters in the key and performs modular division by the memory size.'''\n",
        "    hash = 0\n",
        "    for ch in key:\n",
        "        hash += ord(ch)\n",
        "\n",
        "    return hash % memory_size"
      ],
      "execution_count": null,
      "outputs": []
    },
    {
      "cell_type": "code",
      "metadata": {
        "id": "M3XUS_L8j8V7",
        "outputId": "906e2fc6-f8d7-4c81-b7b2-ef985eb94979",
        "colab": {
          "base_uri": "https://localhost:8080/",
          "height": 34
        }
      },
      "source": [
        "get_hash('march 20', 100)"
      ],
      "execution_count": null,
      "outputs": [
        {
          "output_type": "execute_result",
          "data": {
            "text/plain": [
              "53"
            ]
          },
          "metadata": {
            "tags": []
          },
          "execution_count": 2
        }
      ]
    },
    {
      "cell_type": "markdown",
      "metadata": {
        "id": "6WWLlvLykjCu"
      },
      "source": [
        "# Creating a Hash Table class."
      ]
    },
    {
      "cell_type": "markdown",
      "metadata": {
        "id": "n6KtA79rm9Yd"
      },
      "source": [
        "### Get a hash value using a hash function."
      ]
    },
    {
      "cell_type": "code",
      "metadata": {
        "id": "uVvD9aKikJBZ"
      },
      "source": [
        "class HashTable:\n",
        "    def __init__(self):\n",
        "        self.maximum = 100\n",
        "        self.arr = [None for ii in range(self.maximum)]         # Creates an array for storing the VALUES created by the hash function.\n",
        "\n",
        "    def get_hash(self, key):\n",
        "        '''Sums up the ASCII values of all the characters in the key\n",
        "         and performs modular division by the memory size.'''\n",
        "        hash = 0\n",
        "        for ch in key:\n",
        "            hash += ord(ch)\n",
        "\n",
        "        return hash % self.maximum  \n"
      ],
      "execution_count": null,
      "outputs": []
    },
    {
      "cell_type": "code",
      "metadata": {
        "id": "2cnReZlvlShH",
        "outputId": "a4a7a4c9-9976-435d-f5bd-38aa33aec62e",
        "colab": {
          "base_uri": "https://localhost:8080/",
          "height": 34
        }
      },
      "source": [
        "tt = HashTable()\n",
        "tt.get_hash('march 20')"
      ],
      "execution_count": null,
      "outputs": [
        {
          "output_type": "execute_result",
          "data": {
            "text/plain": [
              "53"
            ]
          },
          "metadata": {
            "tags": []
          },
          "execution_count": 11
        }
      ]
    },
    {
      "cell_type": "markdown",
      "metadata": {
        "id": "7oJ1zDFrnGvE"
      },
      "source": [
        "### Add an element in the array at the position governed  by the hash map."
      ]
    },
    {
      "cell_type": "code",
      "metadata": {
        "id": "xs0N0lWsllHJ"
      },
      "source": [
        "class HashTable:\n",
        "    def __init__(self, maximum = 100):\n",
        "        self.maximum = maximum\n",
        "        self.arr = [None for ii in range(self.maximum)]         # Creates an array for storing the VALUES created by the hash function.\n",
        "\n",
        "    def get_hash(self, key):\n",
        "        '''Sums up the ASCII values of all the characters in the key\n",
        "         and performs modular division by the memory size.'''\n",
        "        hash = 0\n",
        "        for ch in key:\n",
        "            hash += ord(ch)\n",
        "\n",
        "        return hash % self.maximum  \n",
        "\n",
        "    def add(self, key, value):\n",
        "        '''Adds the value in the position defined by the hash funciton.'''\n",
        "        h = self.get_hash(key)\n",
        "        self.arr[h] = value"
      ],
      "execution_count": null,
      "outputs": []
    },
    {
      "cell_type": "code",
      "metadata": {
        "id": "fqB9f44bnYcv",
        "outputId": "39aed04a-8a76-4c91-e44a-3f528dff9740",
        "colab": {
          "base_uri": "https://localhost:8080/",
          "height": 34
        }
      },
      "source": [
        "tt = HashTable(maximum = 10)\n",
        "tt.add('march 20', value = 310.0)\n",
        "tt.arr"
      ],
      "execution_count": null,
      "outputs": [
        {
          "output_type": "execute_result",
          "data": {
            "text/plain": [
              "[None, None, None, 310.0, None, None, None, None, None, None]"
            ]
          },
          "metadata": {
            "tags": []
          },
          "execution_count": 16
        }
      ]
    },
    {
      "cell_type": "markdown",
      "metadata": {
        "id": "Jw11rICGn8PX"
      },
      "source": [
        "### Get the VALUE part in the KEY - VALUE pair."
      ]
    },
    {
      "cell_type": "code",
      "metadata": {
        "id": "2JXRy9PQoCOH"
      },
      "source": [
        "class HashTable:\n",
        "    def __init__(self, maximum = 100):\n",
        "        self.maximum = maximum\n",
        "        self.arr = [None for ii in range(self.maximum)]         # Creates an array for storing the VALUES created by the hash function.\n",
        "\n",
        "    def get_hash(self, key):\n",
        "        '''Sums up the ASCII values of all the characters in the key\n",
        "         and performs modular division by the memory size.'''\n",
        "        hash = 0\n",
        "        for ch in key:\n",
        "            hash += ord(ch)\n",
        "\n",
        "        return hash % self.maximum  \n",
        "\n",
        "    def add(self, key, value):\n",
        "        '''Adds the value in the position defined by the hash funciton.'''\n",
        "        h = self.get_hash(key)\n",
        "        self.arr[h] = value\n",
        "\n",
        "    def get(self, key):\n",
        "        '''Returns the value part in the dictionary given the key.'''\n",
        "        h = self.get_hash(key)\n",
        "        return self.arr[h]"
      ],
      "execution_count": null,
      "outputs": []
    },
    {
      "cell_type": "code",
      "metadata": {
        "id": "jRKn4PHDpC4X",
        "outputId": "3986fa4d-e985-4cae-b5d6-3964259bbb87",
        "colab": {
          "base_uri": "https://localhost:8080/",
          "height": 69
        }
      },
      "source": [
        "tt = HashTable(maximum = 10)\n",
        "tt.add('march 20', value = 310.0)\n",
        "tt.add('march 19', value = 56.6)\n",
        "tt.add('may 20', value = 320.0)\n",
        "tt.add('june 09', value = 66.6)\n",
        "print(tt.arr)\n",
        "print()\n",
        "print(tt.get('may 20'))"
      ],
      "execution_count": null,
      "outputs": [
        {
          "output_type": "stream",
          "text": [
            "[None, 66.6, None, 310.0, None, None, None, 320.0, None, None]\n",
            "\n",
            "320.0\n"
          ],
          "name": "stdout"
        }
      ]
    },
    {
      "cell_type": "markdown",
      "metadata": {
        "id": "aT9-p4gNo5mN"
      },
      "source": [
        "### For easy insertion and access (dictionary - like using ['....'] ).\n"
      ]
    },
    {
      "cell_type": "code",
      "metadata": {
        "id": "qBTgh568o-hZ"
      },
      "source": [
        "class HashTable:\n",
        "    def __init__(self, maximum = 100):\n",
        "        self.maximum = maximum\n",
        "        self.arr = [None for ii in range(self.maximum)]         # Creates an array for storing the VALUES created by the hash function.\n",
        "\n",
        "    def get_hash(self, key):\n",
        "        '''Sums up the ASCII values of all the characters in the key\n",
        "         and performs modular division by the memory size.'''\n",
        "        hash = 0\n",
        "        for ch in key:\n",
        "            hash += ord(ch)\n",
        "\n",
        "        return hash % self.maximum  \n",
        "\n",
        "    def __setitem__(self, key, value):\n",
        "        '''Adds the value in the position defined by the hash funciton.'''\n",
        "        h = self.get_hash(key)\n",
        "        self.arr[h] = value\n",
        "\n",
        "    def __getitem__(self, key):\n",
        "        '''Returns the value part in the dictionary given the key.'''\n",
        "        h = self.get_hash(key)\n",
        "        return self.arr[h]\n",
        "\n",
        "    def __delitem__(self, key):\n",
        "        '''Deletes (replaces the value with None) the value with the given key.'''\n",
        "        h = self.get_hash(key)\n",
        "        self.arr[h] = None"
      ],
      "execution_count": null,
      "outputs": []
    },
    {
      "cell_type": "code",
      "metadata": {
        "id": "NJN1fkzypnO0",
        "outputId": "b4f68f8a-e533-425a-a6ba-8fb972ce94e5",
        "colab": {
          "base_uri": "https://localhost:8080/",
          "height": 138
        }
      },
      "source": [
        "tt = HashTable(maximum = 10)\n",
        "tt['march 15'] = 20.12\n",
        "tt['march 16'] = 69.54\n",
        "tt['march 17'] = 650.14\n",
        "tt['march 18'] = 65.13\n",
        "\n",
        "print(tt.arr)\n",
        "print()\n",
        "print(tt['march 18'])\n",
        "print('\\nAfter deletion:\\n')\n",
        "del tt['march 16']\n",
        "print(tt.arr)"
      ],
      "execution_count": null,
      "outputs": [
        {
          "output_type": "stream",
          "text": [
            "[65.13, None, None, None, None, None, None, 20.12, 69.54, 650.14]\n",
            "\n",
            "65.13\n",
            "\n",
            "After deletion:\n",
            "\n",
            "[65.13, None, None, None, None, None, None, 20.12, None, 650.14]\n"
          ],
          "name": "stdout"
        }
      ]
    },
    {
      "cell_type": "markdown",
      "metadata": {
        "id": "fo3ghxLtqK22"
      },
      "source": [
        "# Overloading."
      ]
    },
    {
      "cell_type": "code",
      "metadata": {
        "id": "7KhkdSqot3QA",
        "outputId": "1fa01eea-ce1c-4035-89aa-8b3cca7e6a19",
        "colab": {
          "base_uri": "https://localhost:8080/",
          "height": 34
        }
      },
      "source": [
        "tt = HashTable(maximum = 10)\n",
        "tt['march 1'] = 23.45\n",
        "tt['march 9'] = 69.10       # hash_value = 2\n",
        "tt['march 10'] = 23.78      # hash_value = 2\n",
        "tt['march 12'] = 65.45\n",
        "tt['march 15'] = 20.12\n",
        "tt['march 16'] = 69.54\n",
        "tt['march 17'] = 650.14\n",
        "tt['march 18'] = 65.13\n",
        "\n",
        "tt.arr"
      ],
      "execution_count": null,
      "outputs": [
        {
          "output_type": "execute_result",
          "data": {
            "text/plain": [
              "[65.13, None, 23.78, None, 65.45, None, None, 20.12, 69.54, 650.14]"
            ]
          },
          "metadata": {
            "tags": []
          },
          "execution_count": 34
        }
      ]
    },
    {
      "cell_type": "markdown",
      "metadata": {
        "id": "wfJVuK980NMy"
      },
      "source": [
        "### Chaining.\n",
        "- We use Linked list to form a chain of ***(key, value)*** tuples in the overflowing bucket.\n",
        "\n"
      ]
    },
    {
      "cell_type": "code",
      "metadata": {
        "id": "cDQPMaCBtFWW"
      },
      "source": [
        "class HashTable:\n",
        "    def __init__(self, maximum = 100, items = [], keys = [], values = []):\n",
        "        self.maximum = maximum\n",
        "        self.arr = [[] for ii in range(self.maximum)]         # Creates a 2D - array for storing the VALUES created by the hash function.\n",
        "        self.items = items\n",
        "        self.keys = keys\n",
        "        self.values = values\n",
        "\n",
        "    def get_hash(self, key):\n",
        "        '''Sums up the ASCII values of all the characters in the key\n",
        "         and performs modular division by the memory size.'''\n",
        "        hash = 0\n",
        "        for ch in key:\n",
        "            hash += ord(ch)\n",
        "\n",
        "        return hash % self.maximum  \n",
        "\n",
        "    def __setitem__(self, key, value):\n",
        "        '''Adds the value in the position defined by the hash funciton.'''\n",
        "        self.items.append((key,value))\n",
        "        self.keys.append(key)\n",
        "        self.values.append(value)\n",
        "\n",
        "        h = self.get_hash(key)\n",
        "        found = False\n",
        "        \n",
        "        for (id, ele) in enumerate(self.arr[h]):            # Note that arr = [[], [], [], [],...]\n",
        "        \n",
        "            if len(ele) == 2 and ele[0] == key:             # Handling the case where the key is already present in the array[h].\n",
        "                self.arr[h][id] = (key, value)\n",
        "                found = True\n",
        "                break\n",
        "        \n",
        "        if found == False:        \n",
        "            self.arr[h].append((key, value))\n",
        "\n",
        "    def __getitem__(self, key):\n",
        "        '''Returns the value part in the dictionary given the key.'''\n",
        "        h = self.get_hash(key)\n",
        "        found = False\n",
        "\n",
        "        for ele in self.arr[h]:                             # ele represents a 2-ple.\n",
        "            if ele[0] == key:\n",
        "                found = True\n",
        "                return ele[1]\n",
        "                break\n",
        "        if found == False:\n",
        "            return None\n",
        "\n",
        "    def __delitem__(self, key):\n",
        "        '''Deletes (replaces the value with None) the value with the given key.'''\n",
        "        h = self.get_hash(key)\n",
        "        found = False\n",
        "\n",
        "        for id, ele in enumerate(self.arr[h]):\n",
        "            if ele[0] == key:\n",
        "                found = True\n",
        "                del self.arr[h][id]\n",
        "                break\n",
        "        if found == False:\n",
        "            raise Exception('Value to be deleted not found.')\n",
        "\n",
        "        for ii in range(len(self.items)):\n",
        "            if self.items[ii][0] == key:\n",
        "                del self.items[ii]\n",
        "                del self.keys[ii]\n",
        "                del self.values[ii]\n",
        "                break     \n"
      ],
      "execution_count": null,
      "outputs": []
    },
    {
      "cell_type": "code",
      "metadata": {
        "id": "Uo6qJLbpxdjO",
        "outputId": "ee69941c-14c3-47cc-b0a4-8e62962d1267",
        "colab": {
          "base_uri": "https://localhost:8080/",
          "height": 124
        }
      },
      "source": [
        "tt = HashTable(maximum = 10)\n",
        "tt['march 1'] = 23.45\n",
        "tt['march 9'] = 69.10       # hash_value = 2\n",
        "tt['march 10'] = 23.78      # hash_value = 2\n",
        "tt['march 12'] = 65.45\n",
        "tt['march 15'] = 20.12\n",
        "tt['march 16'] = 69.54\n",
        "tt['march 17'] = 650.14\n",
        "tt['march 18'] = 65.13\n",
        "tt['march 19'] = 6.54\n",
        "tt['march 20'] = 60.14\n",
        "tt['march 21'] = 6.3\n",
        "\n",
        "print(tt.arr)\n",
        "print()\n",
        "print(tt['march 13'])\n",
        "del tt['march 21']\n",
        "print(tt.arr)\n",
        "del tt['march 10']\n",
        "print(tt.arr)\n"
      ],
      "execution_count": null,
      "outputs": [
        {
          "output_type": "stream",
          "text": [
            "[[('march 18', 65.13)], [('march 19', 6.54)], [('march 9', 69.1), ('march 10', 23.78)], [('march 20', 60.14)], [('march 1', 23.45), ('march 12', 65.45), ('march 21', 6.3)], [], [], [('march 15', 20.12)], [('march 16', 69.54)], [('march 17', 650.14)]]\n",
            "\n",
            "None\n",
            "[[('march 18', 65.13)], [('march 19', 6.54)], [('march 9', 69.1), ('march 10', 23.78)], [('march 20', 60.14)], [('march 1', 23.45), ('march 12', 65.45)], [], [], [('march 15', 20.12)], [('march 16', 69.54)], [('march 17', 650.14)]]\n",
            "[[('march 18', 65.13)], [('march 19', 6.54)], [('march 9', 69.1)], [('march 20', 60.14)], [('march 1', 23.45), ('march 12', 65.45)], [], [], [('march 15', 20.12)], [('march 16', 69.54)], [('march 17', 650.14)]]\n"
          ],
          "name": "stdout"
        }
      ]
    },
    {
      "cell_type": "code",
      "metadata": {
        "id": "cC584emv-3Dr",
        "outputId": "30158b3b-bda0-4174-a13d-c86dc4873074",
        "colab": {
          "base_uri": "https://localhost:8080/",
          "height": 173
        }
      },
      "source": [
        "tt.items()"
      ],
      "execution_count": null,
      "outputs": [
        {
          "output_type": "execute_result",
          "data": {
            "text/plain": [
              "[('march 18', 65.13),\n",
              " ('march 19', 6.54),\n",
              " ('march 9', 69.1),\n",
              " ('march 20', 60.14),\n",
              " ('march 1', 23.45),\n",
              " ('march 12', 65.45),\n",
              " ('march 15', 20.12),\n",
              " ('march 16', 69.54),\n",
              " ('march 17', 650.14)]"
            ]
          },
          "metadata": {
            "tags": []
          },
          "execution_count": 77
        }
      ]
    },
    {
      "cell_type": "markdown",
      "metadata": {
        "id": "YJuV8Xp03RxT"
      },
      "source": [
        "<hr>"
      ]
    },
    {
      "cell_type": "markdown",
      "metadata": {
        "id": "-OhzJsW83Tpf"
      },
      "source": [
        "# Exercises."
      ]
    },
    {
      "cell_type": "markdown",
      "metadata": {
        "id": "-WaP3W013WQU"
      },
      "source": [
        "### nyc_weather.csv contains new york city weather for first few days in the month of January. Write a program that can answer following:\n",
        "- What was the average temperature in first week of Jan?\n",
        "- What was the maximum temperature in first 10 days of Jan?\n",
        "- Figure out data structure that is best for this problem."
      ]
    },
    {
      "cell_type": "code",
      "metadata": {
        "id": "t35bxRwy5db5",
        "outputId": "8628c5f3-872d-47b2-b091-b2936fe5deae",
        "colab": {
          "base_uri": "https://localhost:8080/",
          "height": 190
        }
      },
      "source": [
        "import pandas as pd\n",
        "\n",
        "df = pd.read_csv('https://raw.githubusercontent.com/codebasics/py/master/DataStructures/4_HashTable_2_Collisions/Solution/nyc_weather.csv', index_col = 'date')\n",
        "target = dict()\n",
        "for key, value in zip(df.index, df['temperature(F)']):\n",
        "    target[key] = value\n",
        "\n",
        "target"
      ],
      "execution_count": null,
      "outputs": [
        {
          "output_type": "execute_result",
          "data": {
            "text/plain": [
              "{'Jan 1': 27,\n",
              " 'Jan 10': 30,\n",
              " 'Jan 2': 31,\n",
              " 'Jan 3': 23,\n",
              " 'Jan 4': 34,\n",
              " 'Jan 5': 37,\n",
              " 'Jan 6': 38,\n",
              " 'Jan 7': 29,\n",
              " 'Jan 8': 30,\n",
              " 'Jan 9': 35}"
            ]
          },
          "metadata": {
            "tags": []
          },
          "execution_count": 71
        }
      ]
    },
    {
      "cell_type": "code",
      "metadata": {
        "id": "0RBTm1aK9Kdf",
        "outputId": "b2915af6-9879-4547-a6cb-4231d3683ca7",
        "colab": {
          "base_uri": "https://localhost:8080/",
          "height": 190
        }
      },
      "source": [
        "# Read the file.\n",
        "df = pd.read_csv('https://raw.githubusercontent.com/codebasics/py/master/DataStructures/4_HashTable_2_Collisions/Solution/nyc_weather.csv', index_col = 'date')\n",
        "\n",
        "# Create the object of HashTable.\n",
        "tq = HashTable(10, [], [], [])\n",
        "for key, value in zip(df.index, df['temperature(F)']):\n",
        "    tq[key] = value\n",
        "\n",
        "tq.items"
      ],
      "execution_count": null,
      "outputs": [
        {
          "output_type": "execute_result",
          "data": {
            "text/plain": [
              "[('Jan 1', 27),\n",
              " ('Jan 2', 31),\n",
              " ('Jan 3', 23),\n",
              " ('Jan 4', 34),\n",
              " ('Jan 5', 37),\n",
              " ('Jan 6', 38),\n",
              " ('Jan 7', 29),\n",
              " ('Jan 8', 30),\n",
              " ('Jan 9', 35),\n",
              " ('Jan 10', 30)]"
            ]
          },
          "metadata": {
            "tags": []
          },
          "execution_count": 89
        }
      ]
    },
    {
      "cell_type": "markdown",
      "metadata": {
        "id": "HYLHqZ6LFKBf"
      },
      "source": [
        "#### What was the average temperature in first week of Jan?"
      ]
    },
    {
      "cell_type": "code",
      "metadata": {
        "id": "vgpjPstB-I-x",
        "outputId": "a9c2e4bd-e02f-4891-af18-4b825ab8c0a8",
        "colab": {
          "base_uri": "https://localhost:8080/",
          "height": 34
        }
      },
      "source": [
        "# Solution.\n",
        "count = 0\n",
        "sum = 0\n",
        "\n",
        "for key, value in tq.items:\n",
        "    if key in ['Jan ' + str(ii) for ii in range(1,7+1)]:\n",
        "        count += 1\n",
        "        sum += value\n",
        "        \n",
        "mean_first_week = sum / count\n",
        "print(mean_first_week)"
      ],
      "execution_count": null,
      "outputs": [
        {
          "output_type": "stream",
          "text": [
            "31.285714285714285\n"
          ],
          "name": "stdout"
        }
      ]
    },
    {
      "cell_type": "markdown",
      "metadata": {
        "id": "KShJ1imHFM3e"
      },
      "source": [
        "#### What was the maximum temperature in first 10 days of Jan?"
      ]
    },
    {
      "cell_type": "code",
      "metadata": {
        "id": "LyU9YqZfCMTa",
        "outputId": "0b15f1ea-9557-4962-8759-4bf8dd440ac0",
        "colab": {
          "base_uri": "https://localhost:8080/",
          "height": 34
        }
      },
      "source": [
        "max_value = sorted(tq.values).pop()\n",
        "print('Max Value: ', max_value)"
      ],
      "execution_count": null,
      "outputs": [
        {
          "output_type": "stream",
          "text": [
            "Max Value:  38\n"
          ],
          "name": "stdout"
        }
      ]
    },
    {
      "cell_type": "markdown",
      "metadata": {
        "id": "zVJIjTfVGSAJ"
      },
      "source": [
        "#### Figure out data structure that is best for this problem.\n",
        "    - The best data structure is LIST because we only want to access the elements and do some computations."
      ]
    },
    {
      "cell_type": "markdown",
      "metadata": {
        "id": "_niqp9tsU1Z7"
      },
      "source": [
        "<hr>\n"
      ]
    },
    {
      "cell_type": "markdown",
      "metadata": {
        "id": "4Cjm4fwXM6h3"
      },
      "source": [
        "### ***poem.txt*** Contains famous poem \"Road not taken\" by poet Robert Frost. You have to read this file in python and print every word and its count as show below. Think about the best data structure that you can use to solve this problem and figure out why you selected that specific data structure."
      ]
    },
    {
      "cell_type": "code",
      "metadata": {
        "id": "EQfiHpOhCbMT",
        "outputId": "905b7d31-329f-4e58-c285-a28722db6e4b",
        "colab": {
          "resources": {
            "http://localhost:8080/nbextensions/google.colab/files.js": {
              "data": "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",
              "ok": true,
              "headers": [
                [
                  "content-type",
                  "application/javascript"
                ]
              ],
              "status": 200,
              "status_text": ""
            }
          },
          "base_uri": "https://localhost:8080/",
          "height": 72
        }
      },
      "source": [
        "from google.colab import files\n",
        "uploaded = files.upload()"
      ],
      "execution_count": null,
      "outputs": [
        {
          "output_type": "display_data",
          "data": {
            "text/html": [
              "\n",
              "     <input type=\"file\" id=\"files-97f58ed2-e0a5-4c3c-ae84-5d3088bb0bb5\" name=\"files[]\" multiple disabled\n",
              "        style=\"border:none\" />\n",
              "     <output id=\"result-97f58ed2-e0a5-4c3c-ae84-5d3088bb0bb5\">\n",
              "      Upload widget is only available when the cell has been executed in the\n",
              "      current browser session. Please rerun this cell to enable.\n",
              "      </output>\n",
              "      <script src=\"/nbextensions/google.colab/files.js\"></script> "
            ],
            "text/plain": [
              "<IPython.core.display.HTML object>"
            ]
          },
          "metadata": {
            "tags": []
          }
        },
        {
          "output_type": "stream",
          "text": [
            "Saving poem.txt to poem (1).txt\n"
          ],
          "name": "stdout"
        }
      ]
    },
    {
      "cell_type": "code",
      "metadata": {
        "id": "IB4hls7jNI2r",
        "outputId": "ce7081d9-bfab-4bc9-e2e8-6dd2d6fd1b08",
        "colab": {
          "base_uri": "https://localhost:8080/",
          "height": 86
        }
      },
      "source": [
        "import re\n",
        "poem = open('poem.txt', 'r')\n",
        "file = poem.read()\n",
        "file_new = re.sub('[^A-Za-z0-9\\s]+|\\n', ' ', file)      # removes all the non - alphanumeric characters (except whitespace) and new line characters.\n",
        "file_new"
      ],
      "execution_count": null,
      "outputs": [
        {
          "output_type": "execute_result",
          "data": {
            "application/vnd.google.colaboratory.intrinsic+json": {
              "type": "string"
            },
            "text/plain": [
              "'Two roads diverged in a yellow wood  And sorry I could not travel both And be one traveler  long I stood And looked down one as far as I could To where it bent in the undergrowth   Then took the other  as just as fair  And having perhaps the better claim  Because it was grassy and wanted wear  Though as for that the passing there Had worn them really about the same   And both that morning equally lay In leaves no step had trodden black  Oh  I kept the first for another day  Yet knowing how way leads on to way  I doubted if I should ever come back   I shall be telling this with a sigh Somewhere ages and ages hence  Two roads diverged in a wood  and I  I took the one less traveled by  And that has made all the difference '"
            ]
          },
          "metadata": {
            "tags": []
          },
          "execution_count": 133
        }
      ]
    },
    {
      "cell_type": "code",
      "metadata": {
        "id": "aMEjjYueNXBR",
        "outputId": "693220da-0f4d-4081-b0f8-765aa7f8bb93",
        "colab": {
          "base_uri": "https://localhost:8080/",
          "height": 1000
        }
      },
      "source": [
        "abc = HashTable(50, [], [], [])\n",
        "for word in file_new.split():\n",
        "    if word not in abc.keys:\n",
        "        abc[word] = 1\n",
        "    else:\n",
        "        abc[word] += 1\n",
        "\n",
        "abc.items"
      ],
      "execution_count": null,
      "outputs": [
        {
          "output_type": "execute_result",
          "data": {
            "text/plain": [
              "[('Two', 1),\n",
              " ('roads', 1),\n",
              " ('diverged', 1),\n",
              " ('in', 1),\n",
              " ('a', 1),\n",
              " ('yellow', 1),\n",
              " ('wood', 1),\n",
              " ('And', 1),\n",
              " ('sorry', 1),\n",
              " ('I', 1),\n",
              " ('could', 1),\n",
              " ('not', 1),\n",
              " ('travel', 1),\n",
              " ('both', 1),\n",
              " ('And', 2),\n",
              " ('be', 1),\n",
              " ('one', 1),\n",
              " ('traveler', 1),\n",
              " ('long', 1),\n",
              " ('I', 2),\n",
              " ('stood', 1),\n",
              " ('And', 3),\n",
              " ('looked', 1),\n",
              " ('down', 1),\n",
              " ('one', 2),\n",
              " ('as', 1),\n",
              " ('far', 1),\n",
              " ('as', 2),\n",
              " ('I', 3),\n",
              " ('could', 2),\n",
              " ('To', 1),\n",
              " ('where', 1),\n",
              " ('it', 1),\n",
              " ('bent', 1),\n",
              " ('in', 2),\n",
              " ('the', 1),\n",
              " ('undergrowth', 1),\n",
              " ('Then', 1),\n",
              " ('took', 1),\n",
              " ('the', 2),\n",
              " ('other', 1),\n",
              " ('as', 3),\n",
              " ('just', 1),\n",
              " ('as', 4),\n",
              " ('fair', 1),\n",
              " ('And', 4),\n",
              " ('having', 1),\n",
              " ('perhaps', 1),\n",
              " ('the', 3),\n",
              " ('better', 1),\n",
              " ('claim', 1),\n",
              " ('Because', 1),\n",
              " ('it', 2),\n",
              " ('was', 1),\n",
              " ('grassy', 1),\n",
              " ('and', 1),\n",
              " ('wanted', 1),\n",
              " ('wear', 1),\n",
              " ('Though', 1),\n",
              " ('as', 5),\n",
              " ('for', 1),\n",
              " ('that', 1),\n",
              " ('the', 4),\n",
              " ('passing', 1),\n",
              " ('there', 1),\n",
              " ('Had', 1),\n",
              " ('worn', 1),\n",
              " ('them', 1),\n",
              " ('really', 1),\n",
              " ('about', 1),\n",
              " ('the', 5),\n",
              " ('same', 1),\n",
              " ('And', 5),\n",
              " ('both', 2),\n",
              " ('that', 2),\n",
              " ('morning', 1),\n",
              " ('equally', 1),\n",
              " ('lay', 1),\n",
              " ('In', 1),\n",
              " ('leaves', 1),\n",
              " ('no', 1),\n",
              " ('step', 1),\n",
              " ('had', 1),\n",
              " ('trodden', 1),\n",
              " ('black', 1),\n",
              " ('Oh', 1),\n",
              " ('I', 4),\n",
              " ('kept', 1),\n",
              " ('the', 6),\n",
              " ('first', 1),\n",
              " ('for', 2),\n",
              " ('another', 1),\n",
              " ('day', 1),\n",
              " ('Yet', 1),\n",
              " ('knowing', 1),\n",
              " ('how', 1),\n",
              " ('way', 1),\n",
              " ('leads', 1),\n",
              " ('on', 1),\n",
              " ('to', 1),\n",
              " ('way', 2),\n",
              " ('I', 5),\n",
              " ('doubted', 1),\n",
              " ('if', 1),\n",
              " ('I', 6),\n",
              " ('should', 1),\n",
              " ('ever', 1),\n",
              " ('come', 1),\n",
              " ('back', 1),\n",
              " ('I', 7),\n",
              " ('shall', 1),\n",
              " ('be', 2),\n",
              " ('telling', 1),\n",
              " ('this', 1),\n",
              " ('with', 1),\n",
              " ('a', 2),\n",
              " ('sigh', 1),\n",
              " ('Somewhere', 1),\n",
              " ('ages', 1),\n",
              " ('and', 2),\n",
              " ('ages', 2),\n",
              " ('hence', 1),\n",
              " ('Two', 2),\n",
              " ('roads', 2),\n",
              " ('diverged', 2),\n",
              " ('in', 3),\n",
              " ('a', 3),\n",
              " ('wood', 2),\n",
              " ('and', 3),\n",
              " ('I', 8),\n",
              " ('I', 9),\n",
              " ('took', 2),\n",
              " ('the', 7),\n",
              " ('one', 3),\n",
              " ('less', 1),\n",
              " ('traveled', 1),\n",
              " ('by', 1),\n",
              " ('And', 6),\n",
              " ('that', 3),\n",
              " ('has', 1),\n",
              " ('made', 1),\n",
              " ('all', 1),\n",
              " ('the', 8),\n",
              " ('difference', 1)]"
            ]
          },
          "metadata": {
            "tags": []
          },
          "execution_count": 138
        }
      ]
    },
    {
      "cell_type": "code",
      "metadata": {
        "id": "Yp2_GrFFPPnJ"
      },
      "source": [
        ""
      ],
      "execution_count": null,
      "outputs": []
    }
  ]
}