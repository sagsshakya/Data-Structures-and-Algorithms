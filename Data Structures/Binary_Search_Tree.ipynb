{
  "nbformat": 4,
  "nbformat_minor": 0,
  "metadata": {
    "colab": {
      "name": "Binary Search Tree.ipynb",
      "provenance": [],
      "collapsed_sections": [],
      "authorship_tag": "ABX9TyM+C2a1vGpKFEDAaPjHfISq",
      "include_colab_link": true
    },
    "kernelspec": {
      "name": "python3",
      "display_name": "Python 3"
    }
  },
  "cells": [
    {
      "cell_type": "markdown",
      "metadata": {
        "id": "view-in-github",
        "colab_type": "text"
      },
      "source": [
        "<a href=\"https://colab.research.google.com/github/sagsshakya/Data-Structures-and-Algorithms/blob/master/Data%20Structures/Binary_Search_Tree.ipynb\" target=\"_parent\"><img src=\"https://colab.research.google.com/assets/colab-badge.svg\" alt=\"Open In Colab\"/></a>"
      ]
    },
    {
      "cell_type": "code",
      "metadata": {
        "id": "B_obd3GlnOa-"
      },
      "source": [
        "class Node(object):\n",
        "    def __init__(self, value):\n",
        "        self.value = value\n",
        "        self.left = None\n",
        "        self.right = None\n",
        "\n",
        "class BinaryTree(object):\n",
        "    def __init__(self, root):\n",
        "        self.root = Node(root)\n"
      ],
      "execution_count": null,
      "outputs": []
    },
    {
      "cell_type": "code",
      "metadata": {
        "id": "9DfECX_5tYcR"
      },
      "source": [
        "tree = BinaryTree(1)\n",
        "tree.root.left = Node(2)\n",
        "tree.root.right = Node(2)\n",
        "tree.root.left.left = Node(4)\n",
        "tree.root.left.right = Node(5)\n",
        "tree.root.right.left = Node(6)\n",
        "tree.root.right.right = Node(7)\n",
        "tree.root.right.right.right = Node(7)"
      ],
      "execution_count": null,
      "outputs": []
    },
    {
      "cell_type": "markdown",
      "metadata": {
        "id": "6RO3cACr5CBO"
      },
      "source": [
        "# Height of the BST.\n",
        "- Number of levels."
      ]
    },
    {
      "cell_type": "code",
      "metadata": {
        "id": "MFeu4RXVe1Mf"
      },
      "source": [
        "class Node(object):\n",
        "    def __init__(self, value):\n",
        "        self.value = value\n",
        "        self.left = None\n",
        "        self.right = None\n",
        "\n",
        "class BinaryTree(object):\n",
        "    def __init__(self, root):\n",
        "        self.root = Node(root)\n",
        "\n",
        "    def height(self, node):\n",
        "        if node is None:\n",
        "            return -1\n",
        "\n",
        "        left_height = self.height(node.left)\n",
        "        right_height = self.height(node.right)\n",
        "\n",
        "        return 1 + max(left_height, right_height)\n"
      ],
      "execution_count": null,
      "outputs": []
    },
    {
      "cell_type": "code",
      "metadata": {
        "id": "Wm2qECMV5oDl",
        "outputId": "b036d9f9-6db6-485b-f369-1eb32d154856",
        "colab": {
          "base_uri": "https://localhost:8080/",
          "height": 34
        }
      },
      "source": [
        "#         __1__\n",
        "#        /     \\\n",
        "#       2       3\n",
        "#     /   \\   /   \\\n",
        "#    4     5  6    7\n",
        "#                   \\\n",
        "#                     8\n",
        "#\n",
        "# Set up the tree.\n",
        "tree = BinaryTree(1)\n",
        "\n",
        "tree.root.left = Node(2)\n",
        "tree.root.right = Node(3)\n",
        "\n",
        "tree.root.left.left = Node(4)\n",
        "tree.root.left.right = Node(5)\n",
        "\n",
        "tree.root.right.left = Node(6)\n",
        "tree.root.right.right = Node(7)\n",
        "\n",
        "tree.root.right.right.right = Node(8)\n",
        "\n",
        "# The height of the tree.\n",
        "print(tree.height(tree.root))"
      ],
      "execution_count": null,
      "outputs": [
        {
          "output_type": "stream",
          "text": [
            "3\n"
          ],
          "name": "stdout"
        }
      ]
    },
    {
      "cell_type": "markdown",
      "metadata": {
        "id": "I9oxjW_Q8hhX"
      },
      "source": [
        "# Size of the BST.\n",
        "- Number of nodes."
      ]
    },
    {
      "cell_type": "code",
      "metadata": {
        "id": "Z4goqtuU8hhb"
      },
      "source": [
        "class Node(object):\n",
        "    def __init__(self, value):\n",
        "        self.value = value\n",
        "        self.left = None\n",
        "        self.right = None\n",
        "\n",
        "class BinaryTree(object):\n",
        "    def __init__(self, root):\n",
        "        self.root = Node(root)\n",
        "\n",
        "    def size(self):\n",
        "        if self.root is None:\n",
        "            return 0\n",
        "\n",
        "        stack = Stack()\n",
        "        stack.push(self.root)\n",
        "        size = 1\n",
        "        while stack:\n",
        "            node = stack.pop()\n",
        "            if node.left:\n",
        "                size += 1\n",
        "                stack.push(node.left)\n",
        "            if node.right:\n",
        "                size += 1\n",
        "                stack.push(node.right)\n",
        "\n",
        "        return size"
      ],
      "execution_count": null,
      "outputs": []
    },
    {
      "cell_type": "code",
      "metadata": {
        "id": "CE4_7Dk_8hhq",
        "outputId": "53be8cb3-2b64-4d2b-f17d-d24cbdf1a143",
        "colab": {
          "base_uri": "https://localhost:8080/",
          "height": 34
        }
      },
      "source": [
        "#         __1__\n",
        "#        /     \\\n",
        "#       2       3\n",
        "#     /   \\   /   \\\n",
        "#    4     5  6    7\n",
        "#                   \\\n",
        "#                     8\n",
        "#\n",
        "# Set up the tree.\n",
        "tree = BinaryTree(1)\n",
        "\n",
        "tree.root.left = Node(2)\n",
        "tree.root.right = Node(3)\n",
        "\n",
        "tree.root.left.left = Node(4)\n",
        "tree.root.left.right = Node(5)\n",
        "\n",
        "tree.root.right.left = Node(6)\n",
        "tree.root.right.right = Node(7)\n",
        "\n",
        "tree.root.right.right.right = Node(8)\n",
        "\n",
        "# The height of the tree.\n",
        "print(tree.size())"
      ],
      "execution_count": null,
      "outputs": [
        {
          "output_type": "stream",
          "text": [
            "8\n"
          ],
          "name": "stdout"
        }
      ]
    },
    {
      "cell_type": "markdown",
      "metadata": {
        "id": "WY66NH3_2AUY"
      },
      "source": [
        "# Types of traversal in a BST:\n",
        "1. Depth - first search.\n",
        "    - Pre - order traversal.\n",
        "    - Post - order traversal.\n",
        "    - In - order traversal.\n",
        "2. Breadth - first search."
      ]
    },
    {
      "cell_type": "markdown",
      "metadata": {
        "id": "2ipwh9ve1TAu"
      },
      "source": [
        "# Pre - Order Traversal.\n",
        "1. check if the current node is empty / NULL.\n",
        "2. display the data present in the root(current node).\n",
        "3. traverse the left sub - tree by recursively traversing calling the pre_order_print function.\n",
        "4. traverse the right sub - tree by recursively traversing calling the pre_order_print function."
      ]
    },
    {
      "cell_type": "code",
      "metadata": {
        "id": "rv2AMUFItwN1"
      },
      "source": [
        "class Node(object):\n",
        "    def __init__(self, value):\n",
        "        self.value = value\n",
        "        self.left = None\n",
        "        self.right = None\n",
        "\n",
        "class BinaryTree(object):\n",
        "    def __init__(self, root):\n",
        "        self.root = Node(root)\n",
        "\n",
        "    def print_tree(self, traversal_type = 'preorder'):\n",
        "        if traversal_type == 'preorder':\n",
        "            return self.pre_order_print(start = self.root, traversal = '')\n",
        "        else:\n",
        "            raise Exception(\"The traversal type is not supported.\")\n",
        "\n",
        "    def pre_order_print(self, start, traversal):\n",
        "        '''Root --> Left --> Right'''\n",
        "        if start:\n",
        "            traversal += (str(start.value) + ' -> ')\n",
        "            traversal = self.pre_order_print(start.left, traversal)\n",
        "            traversal = self.pre_order_print(start.right, traversal)\n",
        "        return traversal"
      ],
      "execution_count": null,
      "outputs": []
    },
    {
      "cell_type": "code",
      "metadata": {
        "id": "Wk4KZNtA1Frx",
        "outputId": "2223acdd-9df1-43fe-c69e-5c1f89f277ed",
        "colab": {
          "base_uri": "https://localhost:8080/",
          "height": 34
        }
      },
      "source": [
        "#         __1__\n",
        "#        /     \\\n",
        "#       2       3\n",
        "#     /   \\   /   \\\n",
        "#    4     5  6    7\n",
        "#                   \\\n",
        "#                     8\n",
        "#\n",
        "# Set up the tree.\n",
        "tree = BinaryTree(1)\n",
        "tree.root.left = Node(2)\n",
        "tree.root.right = Node(3)\n",
        "tree.root.left.left = Node(4)\n",
        "tree.root.left.right = Node(5)\n",
        "tree.root.right.left = Node(6)\n",
        "tree.root.right.right = Node(7)\n",
        "tree.root.right.right.right = Node(8)\n",
        "\n",
        "# Display the tree using pre - order traversal.\n",
        "print(tree.print_tree(traversal_type = 'preorder'))"
      ],
      "execution_count": null,
      "outputs": [
        {
          "output_type": "stream",
          "text": [
            "1 -> 2 -> 4 -> 5 -> 3 -> 6 -> 7 -> 8 -> \n"
          ],
          "name": "stdout"
        }
      ]
    },
    {
      "cell_type": "markdown",
      "metadata": {
        "id": "Prd90Cp25upE"
      },
      "source": [
        "# In - order traversal.\n",
        "1. check if the current node is empty / NULL.\n",
        "2. traverse the left sub - tree by recursively traversing calling the pre_order_print function.\n",
        "3. display the data present in the root(current node).\n",
        "4. traverse the right sub - tree by recursively traversing calling the pre_order_print function."
      ]
    },
    {
      "cell_type": "code",
      "metadata": {
        "id": "qd4EySRW5xVV"
      },
      "source": [
        "class Node(object):\n",
        "    def __init__(self, value):\n",
        "        self.value = value\n",
        "        self.left = None\n",
        "        self.right = None\n",
        "\n",
        "class BinaryTree(object):\n",
        "    def __init__(self, root):\n",
        "        self.root = Node(root)\n",
        "\n",
        "    def print_tree(self, traversal_type = 'preorder'):\n",
        "        if traversal_type == 'preorder':\n",
        "            return self.pre_order_print(start = self.root, traversal = '')\n",
        "        elif traversal_type == 'inorder':\n",
        "            return self.in_order_print(start = self.root, traversal = '')\n",
        "        else:\n",
        "            raise Exception(\"The traversal type is not supported.\")\n",
        "\n",
        "    def pre_order_print(self, start, traversal):\n",
        "        '''Root --> Left --> Right'''\n",
        "        if start:\n",
        "            traversal += (str(start.value) + ' -> ')\n",
        "            traversal = self.pre_order_print(start.left, traversal)\n",
        "            traversal = self.pre_order_print(start.right, traversal)\n",
        "        return traversal\n",
        "\n",
        "    def in_order_print(self, start, traversal):\n",
        "        '''Left --> Root --> Right'''\n",
        "        if start:\n",
        "            traversal = self.in_order_print(start.left, traversal)\n",
        "            traversal += str(start.value) + ' -> '\n",
        "            traversal = self.in_order_print(start.right, traversal)\n",
        "        return traversal"
      ],
      "execution_count": null,
      "outputs": []
    },
    {
      "cell_type": "code",
      "metadata": {
        "id": "nZ23KT-y5xVs",
        "outputId": "471751fa-7de1-4e4d-8046-51ca9bec54c9",
        "colab": {
          "base_uri": "https://localhost:8080/",
          "height": 52
        }
      },
      "source": [
        "#         __1__\n",
        "#        /     \\\n",
        "#       2       3\n",
        "#     /   \\   /   \\\n",
        "#    4     5  6    7\n",
        "#                   \\\n",
        "#                     8\n",
        "#\n",
        "# Set up the tree.\n",
        "tree = BinaryTree(1)\n",
        "tree.root.left = Node(2)\n",
        "tree.root.right = Node(3)\n",
        "tree.root.left.left = Node(4)\n",
        "tree.root.left.right = Node(5)\n",
        "tree.root.right.left = Node(6)\n",
        "tree.root.right.right = Node(7)\n",
        "tree.root.right.right.right = Node(8)\n",
        "\n",
        "# Display the tree using pre - order and in - order traversal.\n",
        "print(tree.print_tree(traversal_type = 'preorder'))\n",
        "print(tree.print_tree(traversal_type = 'inorder'))"
      ],
      "execution_count": null,
      "outputs": [
        {
          "output_type": "stream",
          "text": [
            "1 -> 2 -> 4 -> 5 -> 3 -> 6 -> 7 -> 8 -> \n",
            "4 -> 2 -> 5 -> 1 -> 6 -> 3 -> 7 -> 8 -> \n"
          ],
          "name": "stdout"
        }
      ]
    },
    {
      "cell_type": "markdown",
      "metadata": {
        "id": "l8jD-O-C75oz"
      },
      "source": [
        "# Post - order traversal.\n",
        "1. check if the current node is empty / NULL.\n",
        "2. traverse the left sub - tree by recursively traversing calling the pre_order_print function.\n",
        "3. traverse the right sub - tree by recursively traversing calling the pre_order_print function.\n",
        "4. display the data present in the root(current node).\n"
      ]
    },
    {
      "cell_type": "code",
      "metadata": {
        "id": "tnmyGLvO75o4"
      },
      "source": [
        "class Node(object):\n",
        "    def __init__(self, value):\n",
        "        self.value = value\n",
        "        self.left = None\n",
        "        self.right = None\n",
        "\n",
        "class BinaryTree(object):\n",
        "    def __init__(self, root):\n",
        "        self.root = Node(root)\n",
        "\n",
        "    def print_tree(self, traversal_type = 'preorder'):\n",
        "        if traversal_type == 'preorder':\n",
        "            return self.pre_order_print(start = self.root, traversal = '')\n",
        "        elif traversal_type == 'inorder':\n",
        "            return self.in_order_print(start = self.root, traversal = '')\n",
        "        elif traversal_type == 'postorder':\n",
        "            return self.post_order_print(start = self.root, traversal = '')\n",
        "        else:\n",
        "            raise Exception(\"The traversal type is not supported.\")\n",
        "\n",
        "    def pre_order_print(self, start, traversal):\n",
        "        '''Root --> Left --> Right'''\n",
        "        if start:\n",
        "            traversal += (str(start.value) + ' -> ')\n",
        "            traversal = self.pre_order_print(start.left, traversal)\n",
        "            traversal = self.pre_order_print(start.right, traversal)\n",
        "        return traversal\n",
        "\n",
        "    def in_order_print(self, start, traversal):\n",
        "        '''Left --> Root --> Right'''\n",
        "        if start:\n",
        "            traversal = self.in_order_print(start.left, traversal)\n",
        "            traversal += str(start.value) + ' -> '\n",
        "            traversal = self.in_order_print(start.right, traversal)\n",
        "        return traversal\n",
        "\n",
        "    def post_order_print(self, start, traversal):\n",
        "        '''Left --> Right --> Root'''\n",
        "        if start:\n",
        "            traversal = self.post_order_print(start.left, traversal)\n",
        "            traversal = self.post_order_print(start.right, traversal)\n",
        "            traversal += str(start.value) + ' -> '\n",
        "        return traversal"
      ],
      "execution_count": null,
      "outputs": []
    },
    {
      "cell_type": "code",
      "metadata": {
        "id": "B53-uQUh75pF",
        "outputId": "0ee544b6-f444-4a67-d970-a5e47f3f72ed",
        "colab": {
          "base_uri": "https://localhost:8080/",
          "height": 158
        }
      },
      "source": [
        "#         __1__\n",
        "#        /     \\\n",
        "#       2       3\n",
        "#     /   \\   /   \\\n",
        "#    4     5  6    7\n",
        "#                   \\\n",
        "#                     8\n",
        "#\n",
        "# Set up the tree.\n",
        "tree = BinaryTree(1)\n",
        "\n",
        "tree.root.left = Node(2)\n",
        "tree.root.right = Node(3)\n",
        "\n",
        "tree.root.left.left = Node(4)\n",
        "tree.root.left.right = Node(5)\n",
        "\n",
        "tree.root.right.left = Node(6)\n",
        "tree.root.right.right = Node(7)\n",
        "\n",
        "tree.root.right.right.right = Node(8)\n",
        "\n",
        "# Display the tree using pre - order, in - order and post - order traversal.\n",
        "print('Pre - order traversal:')\n",
        "print(tree.print_tree(traversal_type = 'preorder'))\n",
        "\n",
        "print('\\nIn - order traversal:')\n",
        "print(tree.print_tree(traversal_type = 'inorder'))\n",
        "\n",
        "print('\\nPost - order traversal:')\n",
        "print(tree.print_tree(traversal_type = 'postorder'))"
      ],
      "execution_count": null,
      "outputs": [
        {
          "output_type": "stream",
          "text": [
            "Pre - order traversal:\n",
            "1 -> 2 -> 4 -> 5 -> 3 -> 6 -> 7 -> 8 -> \n",
            "\n",
            "In - order traversal:\n",
            "4 -> 2 -> 5 -> 1 -> 6 -> 3 -> 7 -> 8 -> \n",
            "\n",
            "Post - order traversal:\n",
            "4 -> 5 -> 2 -> 6 -> 8 -> 7 -> 3 -> 1 -> \n"
          ],
          "name": "stdout"
        }
      ]
    },
    {
      "cell_type": "markdown",
      "metadata": {
        "id": "4f5g7ClOUfPn"
      },
      "source": [
        "# Level - order Traversal (BFS)."
      ]
    },
    {
      "cell_type": "markdown",
      "metadata": {
        "id": "F74HgIYhY8T1"
      },
      "source": [
        "### Defining a queue object to store the nodes."
      ]
    },
    {
      "cell_type": "code",
      "metadata": {
        "id": "2FeR51Po69tM"
      },
      "source": [
        "class Queue(object):\n",
        "    def __init__(self):\n",
        "        self.items = []\n",
        "\n",
        "    def is_empty(self):\n",
        "        return len(self.items) == 0\n",
        "\n",
        "    def enqueue(self,item):\n",
        "        self.items.insert(0, item)\n",
        "\n",
        "    def dequeue(self):\n",
        "        if not self.is_empty():\n",
        "            return self.items.pop()\n",
        "\n",
        "    def peek(self):\n",
        "        if not self.is_empty():\n",
        "            return self.items[-1].value\n",
        "\n",
        "    def __len__(self):\n",
        "        return self.size()\n",
        "\n",
        "    def size(self):\n",
        "        return len(self.items)"
      ],
      "execution_count": null,
      "outputs": []
    },
    {
      "cell_type": "markdown",
      "metadata": {
        "id": "1b1nhIU7ZDhR"
      },
      "source": [
        "### Creating the level - order method inside the BinaryTree class."
      ]
    },
    {
      "cell_type": "code",
      "metadata": {
        "id": "s3ciINvYVyBo"
      },
      "source": [
        "class Node(object):\n",
        "    def __init__(self, value):\n",
        "        self.value = value\n",
        "        self.left = None\n",
        "        self.right = None\n",
        "\n",
        "class BinaryTree(object):\n",
        "    def __init__(self, root):\n",
        "        self.root = Node(root)\n",
        "\n",
        "    def print_tree(self, traversal_type = 'preorder'):\n",
        "        if traversal_type == 'preorder':\n",
        "            return self.pre_order_print(start = self.root, traversal = '')\n",
        "        elif traversal_type == 'inorder':\n",
        "            return self.in_order_print(start = self.root, traversal = '')\n",
        "        elif traversal_type == 'postorder':\n",
        "            return self.post_order_print(start = self.root, traversal = '')\n",
        "        elif traversal_type == 'levelorder':\n",
        "            return self.level_order_print(start = self.root)\n",
        "        else:\n",
        "            raise Exception(\"The traversal type is not supported.\")\n",
        "\n",
        "    def pre_order_print(self, start, traversal):\n",
        "        '''Root --> Left --> Right'''\n",
        "        if start:\n",
        "            traversal += (str(start.value) + ' -> ')\n",
        "            traversal = self.pre_order_print(start.left, traversal)\n",
        "            traversal = self.pre_order_print(start.right, traversal)\n",
        "        return traversal\n",
        "\n",
        "    def in_order_print(self, start, traversal):\n",
        "        '''Left --> Root --> Right'''\n",
        "        if start:\n",
        "            traversal = self.in_order_print(start.left, traversal)\n",
        "            traversal += str(start.value) + ' -> '\n",
        "            traversal = self.in_order_print(start.right, traversal)\n",
        "        return traversal\n",
        "\n",
        "    def post_order_print(self, start, traversal):\n",
        "        '''Left --> Right --> Root'''\n",
        "        if start:\n",
        "            traversal = self.post_order_print(start.left, traversal)\n",
        "            traversal = self.post_order_print(start.right, traversal)\n",
        "            traversal += str(start.value) + ' -> '\n",
        "        return traversal\n",
        "\n",
        "    def level_order_print(self, start):\n",
        "        if start is None:\n",
        "            return \n",
        "        \n",
        "        queue = Queue()\n",
        "        queue.enqueue(start)\n",
        "        \n",
        "        traversal = ''\n",
        "        while len(queue) > 0:\n",
        "            traversal += str(queue.peek()) + ' -> '\n",
        "            node = queue.dequeue()\n",
        "\n",
        "            # Process the node's children.\n",
        "            if node.left:\n",
        "                queue.enqueue(node.left)\n",
        "            if node.right:\n",
        "                queue.enqueue(node.right)\n",
        "\n",
        "        return traversal\n"
      ],
      "execution_count": null,
      "outputs": []
    },
    {
      "cell_type": "code",
      "metadata": {
        "id": "HWdE0_7lYvbN",
        "outputId": "e0479dfd-dc7c-456d-ecb9-91f8cad571ad",
        "colab": {
          "base_uri": "https://localhost:8080/",
          "height": 52
        }
      },
      "source": [
        "#         __1__\n",
        "#        /     \\\n",
        "#       2       3\n",
        "#     /   \\   /   \\\n",
        "#    4     5  6    7\n",
        "#                   \\\n",
        "#                     8\n",
        "#\n",
        "# Set up the tree.\n",
        "tree = BinaryTree(1)\n",
        "\n",
        "tree.root.left = Node(2)\n",
        "tree.root.right = Node(3)\n",
        "\n",
        "tree.root.left.left = Node(4)\n",
        "tree.root.left.right = Node(5)\n",
        "\n",
        "tree.root.right.left = Node(6)\n",
        "tree.root.right.right = Node(7)\n",
        "\n",
        "tree.root.right.right.right = Node(8)\n",
        "\n",
        "# Display the tree using pre - order, in - order and post - order traversal.\n",
        "print('Pre - order traversal:')\n",
        "print(tree.print_tree(traversal_type = 'levelorder'))"
      ],
      "execution_count": null,
      "outputs": [
        {
          "output_type": "stream",
          "text": [
            "Pre - order traversal:\n",
            "1 -> 2 -> 3 -> 4 -> 5 -> 6 -> 7 -> 8 -> \n"
          ],
          "name": "stdout"
        }
      ]
    },
    {
      "cell_type": "markdown",
      "metadata": {
        "id": "vFUz4-9adK-L"
      },
      "source": [
        "# Reverse Level - order Traversal (BFS).\n",
        "- From bottom to top."
      ]
    },
    {
      "cell_type": "markdown",
      "metadata": {
        "id": "ME9AZKnrdK-S"
      },
      "source": [
        "### Defining a stack and a queue object to store the nodes."
      ]
    },
    {
      "cell_type": "code",
      "metadata": {
        "id": "Rc7AQzAjdK-V"
      },
      "source": [
        "class Queue(object):\n",
        "    def __init__(self):\n",
        "        self.items = []\n",
        "\n",
        "    def is_empty(self):\n",
        "        return len(self.items) == 0\n",
        "\n",
        "    def enqueue(self,item):\n",
        "        self.items.insert(0, item)\n",
        "\n",
        "    def dequeue(self):\n",
        "        if not self.is_empty():\n",
        "            return self.items.pop()\n",
        "\n",
        "    def peek(self):\n",
        "        if not self.is_empty():\n",
        "            return self.items[-1].value\n",
        "\n",
        "    def __len__(self):\n",
        "        return self.size()\n",
        "\n",
        "    def size(self):\n",
        "        return len(self.items)\n",
        "\n",
        "class Stack(object):\n",
        "    def __init__(self):\n",
        "        self.items = []\n",
        "\n",
        "    def is_empty(self):\n",
        "        return len(self.items) == 0\n",
        "\n",
        "    def push(self, item):\n",
        "        self.items.append(item)\n",
        "\n",
        "    def pop(self):\n",
        "        if not self.is_empty():\n",
        "            return self.items.pop()\n",
        "\n",
        "    def peek(self):\n",
        "        if not self.is_empty():\n",
        "            return self.items[-1].value\n",
        "\n",
        "    def __len__(self):\n",
        "        return self.size()\n",
        "\n",
        "    def size(self):\n",
        "        return len(self.items)\n"
      ],
      "execution_count": null,
      "outputs": []
    },
    {
      "cell_type": "markdown",
      "metadata": {
        "id": "PO5qtePrdK-t"
      },
      "source": [
        "### Creating the reverse level - order method inside the BinaryTree class."
      ]
    },
    {
      "cell_type": "code",
      "metadata": {
        "id": "UfNCgCsGdK-v"
      },
      "source": [
        "class Node(object):\n",
        "    def __init__(self, value):\n",
        "        self.value = value\n",
        "        self.left = None\n",
        "        self.right = None\n",
        "\n",
        "class BinaryTree(object):\n",
        "    def __init__(self, root):\n",
        "        self.root = Node(root)\n",
        "\n",
        "    def print_tree(self, traversal_type = 'preorder'):\n",
        "        if traversal_type == 'preorder':\n",
        "            return self.pre_order_print(start = self.root, traversal = '')\n",
        "        elif traversal_type == 'inorder':\n",
        "            return self.in_order_print(start = self.root, traversal = '')\n",
        "        elif traversal_type == 'postorder':\n",
        "            return self.post_order_print(start = self.root, traversal = '')\n",
        "        elif traversal_type == 'levelorder':\n",
        "            return self.level_order_print(start = self.root)\n",
        "        elif traversal_type == 'reverselevelorder':\n",
        "            return self.reverse_level_order_print(start = self.root)\n",
        "        else:\n",
        "            raise Exception(\"The traversal type is not supported.\")\n",
        "\n",
        "    def pre_order_print(self, start, traversal):\n",
        "        '''Root --> Left --> Right'''\n",
        "        if start:\n",
        "            traversal += (str(start.value) + ' -> ')\n",
        "            traversal = self.pre_order_print(start.left, traversal)\n",
        "            traversal = self.pre_order_print(start.right, traversal)\n",
        "        return traversal\n",
        "\n",
        "    def in_order_print(self, start, traversal):\n",
        "        '''Left --> Root --> Right'''\n",
        "        if start:\n",
        "            traversal = self.in_order_print(start.left, traversal)\n",
        "            traversal += str(start.value) + ' -> '\n",
        "            traversal = self.in_order_print(start.right, traversal)\n",
        "        return traversal\n",
        "\n",
        "    def post_order_print(self, start, traversal):\n",
        "        '''Left --> Right --> Root'''\n",
        "        if start:\n",
        "            traversal = self.post_order_print(start.left, traversal)\n",
        "            traversal = self.post_order_print(start.right, traversal)\n",
        "            traversal += str(start.value) + ' -> '\n",
        "        return traversal\n",
        "\n",
        "    def level_order_print(self, start):\n",
        "        if start is None:\n",
        "            return \n",
        "        \n",
        "        queue = Queue()\n",
        "        queue.enqueue(start)\n",
        "        \n",
        "        traversal = ''\n",
        "        while len(queue) > 0:\n",
        "            traversal += str(queue.peek()) + ' -> '\n",
        "            node = queue.dequeue()\n",
        "\n",
        "            # Process the node's children.\n",
        "            if node.left:\n",
        "                queue.enqueue(node.left)\n",
        "            if node.right:\n",
        "                queue.enqueue(node.right)\n",
        "\n",
        "        return traversal\n",
        "\n",
        "    def reverse_level_order_print(self, start):\n",
        "        if start is None:\n",
        "            return \n",
        "        \n",
        "        queue = Queue()\n",
        "        stack = Stack()\n",
        "        queue.enqueue(start)\n",
        "        \n",
        "        traversal = ''\n",
        "        while len(queue) > 0:\n",
        "            #traversal += str(queue.peek()) + ' -> '\n",
        "            node = queue.dequeue()\n",
        "            stack.push(node)\n",
        "            \n",
        "            # Process the node's children.\n",
        "            if node.right:\n",
        "                queue.enqueue(node.right)\n",
        "            if node.left:\n",
        "                queue.enqueue(node.left)\n",
        "\n",
        "        for ii in range(len(stack)):        \n",
        "            traversal += str(stack.pop().value) + ' -> '\n",
        "        return traversal\n"
      ],
      "execution_count": null,
      "outputs": []
    },
    {
      "cell_type": "code",
      "metadata": {
        "id": "FneyhO9ldK_d",
        "outputId": "38969f8b-9b86-49fc-d15d-2016f2b4cc7a",
        "colab": {
          "base_uri": "https://localhost:8080/",
          "height": 52
        }
      },
      "source": [
        "#         __1__\n",
        "#        /     \\\n",
        "#       2       3\n",
        "#     /   \\   /   \\\n",
        "#    4     5  6    7\n",
        "#                   \\\n",
        "#                     8\n",
        "#\n",
        "# Set up the tree.\n",
        "tree = BinaryTree(1)\n",
        "\n",
        "tree.root.left = Node(2)\n",
        "tree.root.right = Node(3)\n",
        "\n",
        "tree.root.left.left = Node(4)\n",
        "tree.root.left.right = Node(5)\n",
        "\n",
        "tree.root.right.left = Node(6)\n",
        "tree.root.right.right = Node(7)\n",
        "\n",
        "tree.root.right.right.right = Node(8)\n",
        "\n",
        "# Display the tree using pre - order, in - order and post - order traversal.\n",
        "print('Reverse Level order traversal:')\n",
        "print(tree.print_tree(traversal_type = 'reverselevelorder'))"
      ],
      "execution_count": null,
      "outputs": [
        {
          "output_type": "stream",
          "text": [
            "Reverse Level order traversal:\n",
            "8 -> 4 -> 5 -> 6 -> 7 -> 2 -> 3 -> 1 -> \n"
          ],
          "name": "stdout"
        }
      ]
    },
    {
      "cell_type": "markdown",
      "metadata": {
        "id": "isCt_Luf2vX-"
      },
      "source": [
        "# Insertion and Search:"
      ]
    },
    {
      "cell_type": "code",
      "metadata": {
        "id": "JAH3Cn4N20ck"
      },
      "source": [
        "class Node(object):\n",
        "    def __init__(self, data = None):\n",
        "        self.data = data\n",
        "        self.left = None\n",
        "        self.right = None\n",
        "\n",
        "class BinaryTree(object):\n",
        "    def __init__(self):\n",
        "        self.root = None\n",
        "\n",
        "    def _insert(self, data, current_node):\n",
        "        '''Helper function for insert().'''\n",
        "        if data < current_node.data:\n",
        "            if current_node.left is None:\n",
        "                current_node.left = Node(data)\n",
        "            else:\n",
        "                self._insert(data, current_node.left)\n",
        "        elif data > current_node.data:\n",
        "            if current_node.right is None:\n",
        "                current_node.right = Node(data)\n",
        "            else:\n",
        "                self._insert(data, current_node.right)\n",
        "\n",
        "        else:\n",
        "            raise Exception('The value is already present in the tree.')\n",
        "\n",
        "    def insert(self, data):\n",
        "        if self.root is None:\n",
        "            self.root = Node(data)\n",
        "        else:\n",
        "            self._insert(data, self.root)\n",
        "\n",
        "    def _find(self, data, current_node):\n",
        "        '''Helper function for find().'''\n",
        "        if current_node:\n",
        "            if data == current_node.data:\n",
        "                return True\n",
        "            elif data < current_node.data:\n",
        "                return self._find(data, current_node.left)\n",
        "            elif data > current_node.data:\n",
        "                return self._find(data, current_node.right)\n",
        "    \n",
        "    def find(self, data):\n",
        "        if self._find(data, current_node = self.root):\n",
        "            return True \n",
        "        return False\n",
        "        \n",
        "    def print_tree(self, traversal_type = 'preorder'):\n",
        "        if traversal_type == 'preorder':\n",
        "            return self.pre_order_print(start = self.root, traversal = '')\n",
        "        if traversal_type == 'inorder':\n",
        "            return self.in_order_print(start = self.root, traversal = '')\n",
        "        else:\n",
        "            raise Exception(\"The traversal type is not supported.\")\n",
        "\n",
        "    def pre_order_print(self, start, traversal):\n",
        "        '''Root --> Left --> Right'''\n",
        "        if start:\n",
        "            traversal += (str(start.data) + ' -> ')\n",
        "            traversal = self.pre_order_print(start.left, traversal)\n",
        "            traversal = self.pre_order_print(start.right, traversal)\n",
        "        return traversal\n",
        "\n",
        "    def in_order_print(self, start, traversal):\n",
        "        '''Left --> Root --> Right'''\n",
        "        if start:\n",
        "            traversal = self.in_order_print(start.left, traversal)\n",
        "            traversal += str(start.data) + ' -> '\n",
        "            traversal = self.in_order_print(start.right, traversal)\n",
        "        return traversal\n"
      ],
      "execution_count": 31,
      "outputs": []
    },
    {
      "cell_type": "code",
      "metadata": {
        "id": "WIIzAGHF86MB"
      },
      "source": [
        "# Setting up the tree.\n",
        "bst = BinaryTree()\n",
        "\n",
        "for data in [12,56,32,77,4,5,87,321]:\n",
        "    bst.insert(data)"
      ],
      "execution_count": 32,
      "outputs": []
    },
    {
      "cell_type": "code",
      "metadata": {
        "id": "EP2T6JLS9Zwk",
        "outputId": "61e55303-47d4-4a7a-ac32-f068825fa520",
        "colab": {
          "base_uri": "https://localhost:8080/",
          "height": 35
        }
      },
      "source": [
        "bst.print_tree('inorder')"
      ],
      "execution_count": 33,
      "outputs": [
        {
          "output_type": "execute_result",
          "data": {
            "application/vnd.google.colaboratory.intrinsic+json": {
              "type": "string"
            },
            "text/plain": [
              "'4 -> 5 -> 12 -> 32 -> 56 -> 77 -> 87 -> 321 -> '"
            ]
          },
          "metadata": {
            "tags": []
          },
          "execution_count": 33
        }
      ]
    },
    {
      "cell_type": "code",
      "metadata": {
        "id": "o-5GXrgN9aXE",
        "outputId": "939c81fc-da69-4727-ab3b-dd8ada7307e6",
        "colab": {
          "base_uri": "https://localhost:8080/",
          "height": 35
        }
      },
      "source": [
        "bst.find(12)"
      ],
      "execution_count": null,
      "outputs": [
        {
          "output_type": "execute_result",
          "data": {
            "text/plain": [
              "True"
            ]
          },
          "metadata": {
            "tags": []
          },
          "execution_count": 26
        }
      ]
    },
    {
      "cell_type": "code",
      "metadata": {
        "id": "N2ENG1GfA7Oy",
        "outputId": "9d1b3b8a-66ab-4e09-a0b2-11168248583b",
        "colab": {
          "base_uri": "https://localhost:8080/",
          "height": 35
        }
      },
      "source": [
        "bst.find(31)"
      ],
      "execution_count": null,
      "outputs": [
        {
          "output_type": "execute_result",
          "data": {
            "text/plain": [
              "False"
            ]
          },
          "metadata": {
            "tags": []
          },
          "execution_count": 27
        }
      ]
    },
    {
      "cell_type": "code",
      "metadata": {
        "id": "6QKIbkCI5vXW"
      },
      "source": [
        ""
      ],
      "execution_count": null,
      "outputs": []
    }
  ]
}