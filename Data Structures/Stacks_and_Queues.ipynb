{
  "nbformat": 4,
  "nbformat_minor": 0,
  "metadata": {
    "colab": {
      "name": "Stacks and Queues.ipynb",
      "provenance": [],
      "collapsed_sections": [],
      "authorship_tag": "ABX9TyNHxq+ZPUhJQUrC7KZRTPGk",
      "include_colab_link": true
    },
    "kernelspec": {
      "name": "python3",
      "display_name": "Python 3"
    }
  },
  "cells": [
    {
      "cell_type": "markdown",
      "metadata": {
        "id": "view-in-github",
        "colab_type": "text"
      },
      "source": [
        "<a href=\"https://colab.research.google.com/github/sagsshakya/Data-Structures-and-Algorithms/blob/master/Data%20Structures/Stacks_and_Queues.ipynb\" target=\"_parent\"><img src=\"https://colab.research.google.com/assets/colab-badge.svg\" alt=\"Open In Colab\"/></a>"
      ]
    },
    {
      "cell_type": "markdown",
      "metadata": {
        "id": "ZnNjiyjkIEWF"
      },
      "source": [
        "# Stacks."
      ]
    },
    {
      "cell_type": "markdown",
      "metadata": {
        "id": "zEbcQUni9xsQ"
      },
      "source": [
        "URL:\n",
        "https://www.youtube.com/watch?v=lVFnq4zbs-g&list=PL5tcWHG-UPH112e7AN7C-fwDVPVrt0wpV"
      ]
    },
    {
      "cell_type": "code",
      "metadata": {
        "id": "ULcl1mmb90PW"
      },
      "source": [
        "class Stack():\n",
        "    def __init__(self):\n",
        "        self.items = []\n",
        "\n",
        "    def push(self, item):\n",
        "        self.items.append(item)\n",
        "\n",
        "    def pop(self):\n",
        "        return self.items.pop()\n",
        "\n",
        "    def is_empty(self):\n",
        "        return self.items == []\n",
        "\n",
        "    def peek(self):\n",
        "        if not self.is_empty():\n",
        "            return self.items[-1]\n",
        "            \n",
        "    def get_stack(self):\n",
        "        return self.items"
      ],
      "execution_count": null,
      "outputs": []
    },
    {
      "cell_type": "markdown",
      "metadata": {
        "id": "Eq_ZUpay_YbZ"
      },
      "source": [
        "# Applications."
      ]
    },
    {
      "cell_type": "markdown",
      "metadata": {
        "id": "8-RVSMJR_aKs"
      },
      "source": [
        "1. Use stack DS to check whether the given set of parentheses are balanced.\n",
        "\n",
        "    - URL: https://www.youtube.com/watch?v=TC7apM-xGaU&list=PL5tcWHG-UPH112e7AN7C-fwDVPVrt0wpV&index=2"
      ]
    },
    {
      "cell_type": "code",
      "metadata": {
        "id": "4c6kLb2b-_oJ"
      },
      "source": [
        "def isMatch(p1 , p2):\n",
        "    if p1 == '(' and p2 == ')':\n",
        "        return True\n",
        "    elif p1 == '{' and p2 == '}':\n",
        "        return True\n",
        "    elif p1 == '[' and p2 == ']':\n",
        "        return True\n",
        "    else:\n",
        "        return False\n",
        "\n",
        "def is_paren_balanced(paren_string):\n",
        "    s = Stack()\n",
        "    isBalanced = True\n",
        "    index = 0\n",
        "\n",
        "    while index < len(paren_string) and isBalanced:\n",
        "        paren = paren_string[index]\n",
        "\n",
        "        if paren in '({[':\n",
        "            s.push(paren)\n",
        "        else:\n",
        "            if s.is_empty():\n",
        "                isBalanced = False\n",
        "            else:\n",
        "                top = s.pop()\n",
        "\n",
        "                if not  isMatch(top, paren): # here paren is the closing parenthesis and top is the opening (possibly) one.\n",
        "                    isBalanced = False\n",
        "\n",
        "        index += 1\n",
        "\n",
        "    if s.is_empty() and isBalanced:\n",
        "        return True\n",
        "    else:\n",
        "        return False\n"
      ],
      "execution_count": null,
      "outputs": []
    },
    {
      "cell_type": "code",
      "metadata": {
        "id": "qVN6qUl0Dh9x",
        "outputId": "fc1a49ab-f7b1-45a6-f505-bb27dbcdf573",
        "colab": {
          "base_uri": "https://localhost:8080/",
          "height": 35
        }
      },
      "source": [
        "is_paren_balanced('((()))')"
      ],
      "execution_count": null,
      "outputs": [
        {
          "output_type": "execute_result",
          "data": {
            "text/plain": [
              "True"
            ]
          },
          "metadata": {
            "tags": []
          },
          "execution_count": 6
        }
      ]
    },
    {
      "cell_type": "code",
      "metadata": {
        "id": "ylk4f2Y7Ebrf",
        "outputId": "de5b194d-45a7-4c7c-a37e-c4a3ade70df5",
        "colab": {
          "base_uri": "https://localhost:8080/",
          "height": 35
        }
      },
      "source": [
        "is_paren_balanced('{(())}[]')"
      ],
      "execution_count": null,
      "outputs": [
        {
          "output_type": "execute_result",
          "data": {
            "text/plain": [
              "True"
            ]
          },
          "metadata": {
            "tags": []
          },
          "execution_count": 7
        }
      ]
    },
    {
      "cell_type": "code",
      "metadata": {
        "id": "H9ewgoqdGfMo",
        "outputId": "ad462b9b-b170-4dfe-8c68-56e646ea3ee0",
        "colab": {
          "base_uri": "https://localhost:8080/",
          "height": 35
        }
      },
      "source": [
        "is_paren_balanced('((')"
      ],
      "execution_count": null,
      "outputs": [
        {
          "output_type": "execute_result",
          "data": {
            "text/plain": [
              "False"
            ]
          },
          "metadata": {
            "tags": []
          },
          "execution_count": 8
        }
      ]
    },
    {
      "cell_type": "code",
      "metadata": {
        "id": "XU74ATJ4GiDj",
        "outputId": "7c2b2503-c00d-4f07-ede9-a1a6610e455e",
        "colab": {
          "base_uri": "https://localhost:8080/",
          "height": 35
        }
      },
      "source": [
        "is_paren_balanced('))')"
      ],
      "execution_count": null,
      "outputs": [
        {
          "output_type": "execute_result",
          "data": {
            "text/plain": [
              "False"
            ]
          },
          "metadata": {
            "tags": []
          },
          "execution_count": 9
        }
      ]
    },
    {
      "cell_type": "markdown",
      "metadata": {
        "id": "Dsnry5liSwEb"
      },
      "source": [
        "# Use Stack DS to convert a decimal integer to its binary counterpart."
      ]
    },
    {
      "cell_type": "code",
      "metadata": {
        "id": "L2z1kv4dGlg8",
        "outputId": "2d7f3a28-92e7-49a3-aa60-6d7e83ee1b15",
        "colab": {
          "base_uri": "https://localhost:8080/",
          "height": 35
        }
      },
      "source": [
        "15//2"
      ],
      "execution_count": null,
      "outputs": [
        {
          "output_type": "execute_result",
          "data": {
            "text/plain": [
              "7"
            ]
          },
          "metadata": {
            "tags": []
          },
          "execution_count": 1
        }
      ]
    },
    {
      "cell_type": "code",
      "metadata": {
        "id": "WyAauqHETy6B"
      },
      "source": [
        "def convert_to_binary(N):\n",
        "    if N in [0, 1]:\n",
        "        return str(N)\n",
        "    else:\n",
        "        mystack = Stack()\n",
        "        q = N\n",
        "        while q > 0:\n",
        "            mystack.push(q%2)    # Pushing the remainder into the stack.\n",
        "            q = q//2\n",
        "\n",
        "        # Reading from the back.\n",
        "        binary_form = ''\n",
        "        while mystack.is_empty() == False:\n",
        "            binary_form += str(mystack.pop())\n",
        "\n",
        "        return binary_form\n"
      ],
      "execution_count": null,
      "outputs": []
    },
    {
      "cell_type": "code",
      "metadata": {
        "id": "lQHN0LR8UbnJ",
        "outputId": "d6486aaa-e92f-4091-f4a8-a437fccd6e79",
        "colab": {
          "base_uri": "https://localhost:8080/",
          "height": 35
        }
      },
      "source": [
        "convert_to_binary(20)"
      ],
      "execution_count": null,
      "outputs": [
        {
          "output_type": "execute_result",
          "data": {
            "application/vnd.google.colaboratory.intrinsic+json": {
              "type": "string"
            },
            "text/plain": [
              "'10100'"
            ]
          },
          "metadata": {
            "tags": []
          },
          "execution_count": 25
        }
      ]
    },
    {
      "cell_type": "code",
      "metadata": {
        "id": "2CuH0EAqUcxj",
        "outputId": "d8ac3d1c-668b-4223-9862-d1541b49de08",
        "colab": {
          "base_uri": "https://localhost:8080/",
          "height": 35
        }
      },
      "source": [
        "convert_to_binary(151)"
      ],
      "execution_count": null,
      "outputs": [
        {
          "output_type": "execute_result",
          "data": {
            "application/vnd.google.colaboratory.intrinsic+json": {
              "type": "string"
            },
            "text/plain": [
              "'10010111'"
            ]
          },
          "metadata": {
            "tags": []
          },
          "execution_count": 26
        }
      ]
    },
    {
      "cell_type": "code",
      "metadata": {
        "id": "7ddcSCyQUjPv",
        "outputId": "38f7568f-698a-4292-a901-691bb1bd67ce",
        "colab": {
          "base_uri": "https://localhost:8080/",
          "height": 35
        }
      },
      "source": [
        "convert_to_binary(2)"
      ],
      "execution_count": null,
      "outputs": [
        {
          "output_type": "execute_result",
          "data": {
            "application/vnd.google.colaboratory.intrinsic+json": {
              "type": "string"
            },
            "text/plain": [
              "'10'"
            ]
          },
          "metadata": {
            "tags": []
          },
          "execution_count": 27
        }
      ]
    },
    {
      "cell_type": "code",
      "metadata": {
        "id": "yiaVA1pIUz-R",
        "outputId": "3016ce01-3764-4f27-eb66-348b093dfabc",
        "colab": {
          "base_uri": "https://localhost:8080/",
          "height": 35
        }
      },
      "source": [
        "convert_to_binary(0)"
      ],
      "execution_count": null,
      "outputs": [
        {
          "output_type": "execute_result",
          "data": {
            "application/vnd.google.colaboratory.intrinsic+json": {
              "type": "string"
            },
            "text/plain": [
              "'0'"
            ]
          },
          "metadata": {
            "tags": []
          },
          "execution_count": 28
        }
      ]
    },
    {
      "cell_type": "markdown",
      "metadata": {
        "id": "rq6wQeasf1FJ"
      },
      "source": [
        "<hr>"
      ]
    },
    {
      "cell_type": "markdown",
      "metadata": {
        "id": "nKgscwNxf3dF"
      },
      "source": [
        "# Queue.\n",
        "- Can be implemented using insert and pop methods in a list.\n",
        "    - mylist.insert(0, item)\n",
        "    - mylist.pop()\n",
        "\n",
        "- But if it exceeds the allocated memory, it needs to be copied into another memory location. Hence, we use deque from collections module."
      ]
    },
    {
      "cell_type": "code",
      "metadata": {
        "id": "dzJMNwWbX_lo"
      },
      "source": [
        "from collections import deque"
      ],
      "execution_count": null,
      "outputs": []
    },
    {
      "cell_type": "code",
      "metadata": {
        "id": "CyeKiw0WgZ08",
        "outputId": "60930f69-475d-4238-a137-50702ed72b01",
        "colab": {
          "base_uri": "https://localhost:8080/",
          "height": 35
        }
      },
      "source": [
        "q = deque()\n",
        "\n",
        "q.appendleft(234)\n",
        "q.appendleft(232)\n",
        "q.appendleft(2324)\n",
        "q.appendleft(23)\n",
        "\n",
        "print(q)"
      ],
      "execution_count": null,
      "outputs": [
        {
          "output_type": "stream",
          "text": [
            "deque([23, 2324, 232, 234])\n"
          ],
          "name": "stdout"
        }
      ]
    },
    {
      "cell_type": "code",
      "metadata": {
        "id": "n9DMagX9gnLf",
        "outputId": "c9086fa0-5361-4ec1-ccf1-5000c4c12f5c",
        "colab": {
          "base_uri": "https://localhost:8080/",
          "height": 35
        }
      },
      "source": [
        "q.pop()\n",
        "q.pop()"
      ],
      "execution_count": null,
      "outputs": [
        {
          "output_type": "execute_result",
          "data": {
            "text/plain": [
              "232"
            ]
          },
          "metadata": {
            "tags": []
          },
          "execution_count": 31
        }
      ]
    },
    {
      "cell_type": "markdown",
      "metadata": {
        "id": "RqsFHzUzhE83"
      },
      "source": [
        "# Summarizing these in a class."
      ]
    },
    {
      "cell_type": "code",
      "metadata": {
        "id": "UIwGR8xWgqqY"
      },
      "source": [
        "class Queue:\n",
        "    def __init__(self):\n",
        "        self.buffer =deque()\n",
        "    \n",
        "    def enqueue(self, value):\n",
        "        self.buffer.appendleft(value)\n",
        "\n",
        "    def dequeue(self):\n",
        "        return self.buffer.pop()\n",
        "\n",
        "    def is_empty(self):\n",
        "        if len(self.buffer) == 0:\n",
        "            return True\n",
        "        else:\n",
        "            return False\n",
        "    \n",
        "    def size(self):\n",
        "        return len(self.buffer)"
      ],
      "execution_count": null,
      "outputs": []
    },
    {
      "cell_type": "markdown",
      "metadata": {
        "id": "lRvZwlOMiwTH"
      },
      "source": [
        "## Design a food ordering system where your python program will run two threads,\n",
        "\n",
        "a. ***Place Order***: This thread will be placing an order and inserting that into a queue. This thread places new order every 0.5 second. <br>(hint: use time.sleep(0.5) function)<br>\n",
        "b. **Serve Order**: This thread will server the order. All you need to do is pop the order out of the queue and print it. This thread serves an order every 2 seconds. Also start this thread 1 second after place order thread is started.\n",
        "\n",
        "### Pass following list as an argument to place order thread.\n",
        "\n",
        "    - orders = ['pizza','samosa','pasta','biryani','burger']\n",
        "\n",
        "This problem is a **producer - consumer problem** where place_order thread is producing orders whereas server_order thread is consuming the food orders.<br> Use Queue class implemented in a video tutorial."
      ]
    },
    {
      "cell_type": "markdown",
      "metadata": {
        "id": "7Oqcs_Cl0OmM"
      },
      "source": [
        "### Multi - threading:\n",
        "- When we use the sleep function, the CPU remains idle. During that time, the threading function allocates some job to it so that our net computation time is reduced effectively."
      ]
    },
    {
      "cell_type": "code",
      "metadata": {
        "id": "jBiDkW2qh3Pk",
        "outputId": "519c0211-33fb-49eb-ddef-dcc9d392afa0",
        "colab": {
          "base_uri": "https://localhost:8080/",
          "height": 212
        }
      },
      "source": [
        "from time import sleep, time\n",
        "import threading\n",
        "\n",
        "q = Queue()\n",
        "orders = ['pizza','samosa','pasta','biryani','burger']\n",
        "\n",
        "def place_order(orders):\n",
        "    for food in orders:\n",
        "        sleep(.5)\n",
        "        q.enqueue(food)\n",
        "        print('Order for ', food, ' taken.')\n",
        "\n",
        "def serve_order():\n",
        "    for ii in range(len(orders)):\n",
        "        sleep(1.0)\n",
        "        served = q.dequeue()\n",
        "        print('Your ', served, ' is ready.')\n",
        "\n",
        "start = time()\n",
        "t1 = threading.Thread(target = place_order, args = (orders, ))\n",
        "t2 = threading.Thread(target = serve_order, args = ())\n",
        "\n",
        "t1.start()\n",
        "t2.start()\n",
        "\n",
        "t1.join()\n",
        "t2.join()\n",
        "\n",
        "end = time()\n",
        "\n",
        "print('time elapsed: ', end - start)"
      ],
      "execution_count": null,
      "outputs": [
        {
          "output_type": "stream",
          "text": [
            "Order for  pizza  taken.\n",
            "Order for  samosa  taken.\n",
            "Your  pizza  is ready.\n",
            "Order for  pasta  taken.\n",
            "Order for  biryani  taken.\n",
            "Your  samosa  is ready.\n",
            "Order for  burger  taken.\n",
            "Your  pasta  is ready.\n",
            "Your  biryani  is ready.\n",
            "Your  burger  is ready.\n",
            "time elapsed:  5.012362957000732\n"
          ],
          "name": "stdout"
        }
      ]
    },
    {
      "cell_type": "markdown",
      "metadata": {
        "id": "nGlaClZi1Hy8"
      },
      "source": [
        "# Write a program to print binary numbers from 1 to 10 using Queue. Use Queue class implemented in main tutorial. Binary sequence should look like,\n",
        "    1\n",
        "    10\n",
        "    11\n",
        "    100\n",
        "    101\n",
        "    110\n",
        "    111\n",
        "    1000\n",
        "    1001\n",
        "    1010\n",
        "**Hint**: Notice a pattern above. After 1,  second and third number is 1+0 and 1+1. 4th and 5th number are second number (i.e. 10) + 0 and second number (i.e. 10) + 1.\n",
        "\n",
        "You also need to add front() function in queue class that can return the front element in the queue."
      ]
    },
    {
      "cell_type": "code",
      "metadata": {
        "id": "PsEhqh0467ZG"
      },
      "source": [
        "def print_n_binary_numbers(n):\n",
        "    qq = Queue()\n",
        "\n",
        "    qq.enqueue('1')\n",
        "    ii = 1\n",
        "    while ii <= n:\n",
        "        temp = qq.dequeue()     # Take the first element in the queue.\n",
        "        print(ii, temp)         # Print the first element in the queue.\n",
        "        ii += 1                 # Increase the counter value.\n",
        "\n",
        "        temp1 = temp + str(0)   # Add 0 to the popped value and add it into the queue.\n",
        "        qq.enqueue(temp1)\n",
        "        temp2 = temp + str(1)   # Add 1 to the popped value and add it into the queue.\n",
        "        qq.enqueue(temp2)"
      ],
      "execution_count": null,
      "outputs": []
    },
    {
      "cell_type": "code",
      "metadata": {
        "id": "AkuJAKAc8KZx",
        "outputId": "3b234538-b59d-4a83-9917-da5496f28a86",
        "colab": {
          "base_uri": "https://localhost:8080/",
          "height": 284
        }
      },
      "source": [
        "print_n_binary_numbers(15)"
      ],
      "execution_count": null,
      "outputs": [
        {
          "output_type": "stream",
          "text": [
            "1 1\n",
            "2 10\n",
            "3 11\n",
            "4 100\n",
            "5 101\n",
            "6 110\n",
            "7 111\n",
            "8 1000\n",
            "9 1001\n",
            "10 1010\n",
            "11 1011\n",
            "12 1100\n",
            "13 1101\n",
            "14 1110\n",
            "15 1111\n"
          ],
          "name": "stdout"
        }
      ]
    },
    {
      "cell_type": "code",
      "metadata": {
        "id": "pL3muEei9CoL"
      },
      "source": [
        "import string"
      ],
      "execution_count": null,
      "outputs": []
    },
    {
      "cell_type": "code",
      "metadata": {
        "id": "33PDZnqw-Hnb"
      },
      "source": [
        "alpha = string.ascii_lowercase"
      ],
      "execution_count": null,
      "outputs": []
    },
    {
      "cell_type": "code",
      "metadata": {
        "id": "jNYQb5JH-K37",
        "outputId": "39c4ee9b-a7d0-45d4-950e-e29a36d89994",
        "colab": {
          "base_uri": "https://localhost:8080/",
          "height": 88
        }
      },
      "source": [
        "mystr = 'five'\n",
        "hint = 'iykg'\n",
        "\n",
        "for ii, jj in zip(mystr, hint[::-1]):\n",
        "    print(ord(ii) - ord(jj))"
      ],
      "execution_count": null,
      "outputs": [
        {
          "output_type": "stream",
          "text": [
            "-1\n",
            "-2\n",
            "-3\n",
            "-4\n"
          ],
          "name": "stdout"
        }
      ]
    },
    {
      "cell_type": "code",
      "metadata": {
        "id": "lKwl56Dg_c_J"
      },
      "source": [
        ""
      ],
      "execution_count": null,
      "outputs": []
    }
  ]
}