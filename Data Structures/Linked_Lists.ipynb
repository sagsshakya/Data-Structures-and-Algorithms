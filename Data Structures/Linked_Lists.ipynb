{
  "nbformat": 4,
  "nbformat_minor": 0,
  "metadata": {
    "colab": {
      "name": "Linked Lists.ipynb",
      "provenance": [],
      "collapsed_sections": [
        "4DEY2dLI-u34",
        "o0rviKk4B_0g",
        "6ld9O7cRCE2m",
        "M0EitT8mER0y",
        "5_9p14WqG-_l",
        "TLqyNDrSKGa5"
      ],
      "authorship_tag": "ABX9TyNyPV4V/IEngD/kv9c0QhhX",
      "include_colab_link": true
    },
    "kernelspec": {
      "name": "python3",
      "display_name": "Python 3"
    }
  },
  "cells": [
    {
      "cell_type": "markdown",
      "metadata": {
        "id": "view-in-github",
        "colab_type": "text"
      },
      "source": [
        "<a href=\"https://colab.research.google.com/github/sagsshakya/Data-Structures-and-Algorithms/blob/master/Data%20Structures/Linked_Lists.ipynb\" target=\"_parent\"><img src=\"https://colab.research.google.com/assets/colab-badge.svg\" alt=\"Open In Colab\"/></a>"
      ]
    },
    {
      "cell_type": "markdown",
      "metadata": {
        "id": "4DEY2dLI-u34"
      },
      "source": [
        "# Linked List."
      ]
    },
    {
      "cell_type": "markdown",
      "metadata": {
        "id": "o0rviKk4B_0g"
      },
      "source": [
        "### Insertion of an element at the beginning."
      ]
    },
    {
      "cell_type": "code",
      "metadata": {
        "id": "8eJosGg--w36"
      },
      "source": [
        "class Node:\n",
        "    '''A node is fundamentally made up of a data and a pointer to the next node.'''\n",
        "    def __init__(self, data = None, next = None):\n",
        "        self.data = data\n",
        "        self.next = next\n",
        "\n",
        "class LinkedList:\n",
        "    def __init__(self):\n",
        "        self.head = None                        # Initially, the head is empty because the LL is empty.\n",
        "\n",
        "    def insert_at_beginning(self, data):\n",
        "        node = Node(data, next = self.head)     # Insert a data at the beginning and its pointer points to the previous head element (if any).\n",
        "        self.head = node                        # The newly inserted data at the beginning becomes the new head element.\n",
        "\n",
        "    def print(self):\n",
        "        if self.head is None:\n",
        "            print('Lineked list is empty.')     # Head is not assigned ==> LL is empty.\n",
        "            return\n",
        "        \n",
        "        itr = self.head                         # current node (starts from the head).\n",
        "        LLstr = ''\n",
        "\n",
        "        while itr:\n",
        "            LLstr += str(itr.data) + ' --> '\n",
        "            itr = itr.next                      # forward passing.\n",
        "        print(LLstr)"
      ],
      "execution_count": null,
      "outputs": []
    },
    {
      "cell_type": "code",
      "metadata": {
        "id": "LJqesleiAkQ8",
        "outputId": "88f978e9-39e7-42e4-be9c-b3d3c526c517",
        "colab": {
          "base_uri": "https://localhost:8080/",
          "height": 34
        }
      },
      "source": [
        "ll = LinkedList()\n",
        "ll.insert_at_beginning(45)\n",
        "ll.insert_at_beginning(85)\n",
        "ll.insert_at_beginning(35)\n",
        "ll.print()"
      ],
      "execution_count": null,
      "outputs": [
        {
          "output_type": "stream",
          "text": [
            "35 --> 85 --> 45 --> \n"
          ],
          "name": "stdout"
        }
      ]
    },
    {
      "cell_type": "markdown",
      "metadata": {
        "id": "6ld9O7cRCE2m"
      },
      "source": [
        "### Insertion of an element at the end."
      ]
    },
    {
      "cell_type": "code",
      "metadata": {
        "id": "Mc-FvnApCGQL"
      },
      "source": [
        "class Node:\n",
        "    '''A node is fundamentally made up of a data and a pointer to the next node.'''\n",
        "    def __init__(self, data = None, next = None):\n",
        "        self.data = data\n",
        "        self.next = next\n",
        "\n",
        "class LinkedList:\n",
        "    def __init__(self):\n",
        "        self.head = None                        # Initially, the head is empty because the LL is empty.\n",
        "\n",
        "    def insert_at_beginning(self, data):\n",
        "        node = Node(data, next = self.head)     # Insert a data at the beginning and its pointer points to the previous head element (if any).\n",
        "        self.head = node                        # The newly inserted data at the beginning becomes the new head element.\n",
        "\n",
        "    def print(self):\n",
        "        if self.head is None:\n",
        "            print('Lineked list is empty.')     # Head is not assigned ==> LL is empty.\n",
        "            return\n",
        "        \n",
        "        itr = self.head                         # current node (starts from the head).\n",
        "        LLstr = ''\n",
        "\n",
        "        while itr:\n",
        "            LLstr += str(itr.data) + ' --> '\n",
        "            itr = itr.next                      # forward passing.\n",
        "        print(LLstr)\n",
        "\n",
        "    def insert_at_end(self, data):\n",
        "        if self.head is None:\n",
        "            self.head = Node(data, None)\n",
        "            return\n",
        "        \n",
        "        itr = self.head\n",
        "        while itr.next:                         # Means 'until the next item has some value'. If itr.next is None, the we have reached the last node.\n",
        "            itr = itr.next                      # We keep on iterating until we reach the end and that's where we plug in our incoming data.\n",
        "\n",
        "        itr.next = Node(data, None)             # Data is inserted at the end with no 'next' value.\n",
        "        "
      ],
      "execution_count": null,
      "outputs": []
    },
    {
      "cell_type": "code",
      "metadata": {
        "id": "z0wPZuqfD8ne",
        "outputId": "c74182fc-3831-4875-fee6-d576b1a1c6d0",
        "colab": {
          "base_uri": "https://localhost:8080/",
          "height": 34
        }
      },
      "source": [
        "ll = LinkedList()\n",
        "ll.insert_at_end(45)\n",
        "ll.insert_at_end(95)\n",
        "ll.insert_at_end(75)\n",
        "ll.insert_at_end(35)\n",
        "ll.print()"
      ],
      "execution_count": null,
      "outputs": [
        {
          "output_type": "stream",
          "text": [
            "45 --> 95 --> 75 --> 35 --> \n"
          ],
          "name": "stdout"
        }
      ]
    },
    {
      "cell_type": "markdown",
      "metadata": {
        "id": "M0EitT8mER0y"
      },
      "source": [
        "### Insert a collection of values in a Linked List."
      ]
    },
    {
      "cell_type": "code",
      "metadata": {
        "id": "EORsiZhxEk22"
      },
      "source": [
        "class Node:\n",
        "    '''A node is fundamentally made up of a data and a pointer to the next node.'''\n",
        "    def __init__(self, data = None, next = None):\n",
        "        self.data = data\n",
        "        self.next = next\n",
        "\n",
        "class LinkedList:\n",
        "    def __init__(self):\n",
        "        self.head = None                        # Initially, the head is empty because the LL is empty.\n",
        "\n",
        "    def insert_at_beginning(self, data):\n",
        "        node = Node(data, next = self.head)     # Insert a data at the beginning and its pointer points to the previous head element (if any).\n",
        "        self.head = node                        # The newly inserted data at the beginning becomes the new head element.\n",
        "\n",
        "    def print(self):\n",
        "        if self.head is None:\n",
        "            print('Lineked list is empty.')     # Head is not assigned ==> LL is empty.\n",
        "            return\n",
        "        \n",
        "        itr = self.head                         # current node (starts from the head).\n",
        "        LLstr = ''\n",
        "\n",
        "        while itr:\n",
        "            LLstr += str(itr.data) + ' --> '\n",
        "            itr = itr.next                      # forward passing.\n",
        "        print(LLstr + 'NULL')\n",
        "\n",
        "    def insert_at_end(self, data):\n",
        "        if self.head is None:                   # If there are no elements in the LL.\n",
        "            self.head = Node(data, None)        # this incoming data will be the first data point in the ll.\n",
        "            return\n",
        "        \n",
        "        itr = self.head\n",
        "        while itr.next:                         # Means 'until the next item has some value'. If itr.next is None, the we have reached the last node.\n",
        "            itr = itr.next                      # We keep on iterating until we reach the end and that's where we plug in our incoming data.\n",
        "\n",
        "        itr.next = Node(data, None)             # Data is inserted at the end with no 'next' value.\n",
        "        \n",
        "    def insert_values(self, data_list):\n",
        "        self.head = None\n",
        "        for data in data_list:\n",
        "            self.insert_at_end(data)\n"
      ],
      "execution_count": null,
      "outputs": []
    },
    {
      "cell_type": "code",
      "metadata": {
        "id": "xlUesB3VE9da",
        "outputId": "d00761be-7f07-41ab-e257-55f4a32165f4",
        "colab": {
          "base_uri": "https://localhost:8080/",
          "height": 52
        }
      },
      "source": [
        "ll = LinkedList()\n",
        "ll.insert_values(['apple', 'ball', 'cat', 'dog'])\n",
        "ll.print()"
      ],
      "execution_count": null,
      "outputs": [
        {
          "output_type": "stream",
          "text": [
            "apple --> ball --> cat --> dog --> NULL\n"
          ],
          "name": "stdout"
        },
        {
          "output_type": "execute_result",
          "data": {
            "text/plain": [
              "4"
            ]
          },
          "metadata": {
            "tags": []
          },
          "execution_count": 12
        }
      ]
    },
    {
      "cell_type": "markdown",
      "metadata": {
        "id": "5_9p14WqG-_l"
      },
      "source": [
        "### Removing an element at a given index."
      ]
    },
    {
      "cell_type": "code",
      "metadata": {
        "id": "lfI7mT_DFdtn"
      },
      "source": [
        "class Node:\n",
        "    '''A node is fundamentally made up of a data and a pointer to the next node.'''\n",
        "    def __init__(self, data = None, next = None):\n",
        "        self.data = data\n",
        "        self.next = next\n",
        "\n",
        "class LinkedList:\n",
        "    def __init__(self):\n",
        "        self.head = None                        # Initially, the head is empty because the LL is empty.\n",
        "\n",
        "    def insert_at_beginning(self, data):\n",
        "        node = Node(data, next = self.head)     # Insert a data at the beginning and its pointer points to the previous head element (if any).\n",
        "        self.head = node                        # The newly inserted data at the beginning becomes the new head element.\n",
        "\n",
        "    def print(self):\n",
        "        if self.head is None:\n",
        "            print('Lineked list is empty.')     # Head is not assigned ==> LL is empty.\n",
        "            return\n",
        "        \n",
        "        itr = self.head                         # current node (starts from the head).\n",
        "        LLstr = ''\n",
        "\n",
        "        while itr:\n",
        "            LLstr += str(itr.data) + ' --> '\n",
        "            itr = itr.next                      # forward passing.\n",
        "        print(LLstr + 'NULL')\n",
        "\n",
        "    def insert_at_end(self, data):\n",
        "        if self.head is None:                   # If there are no elements in the LL.\n",
        "            self.head = Node(data, None)        # this incoming data will be the first data point in the ll.\n",
        "            return\n",
        "        \n",
        "        itr = self.head\n",
        "        while itr.next:                         # Means 'until the next item has some value'. If itr.next is None, the we have reached the last node.\n",
        "            itr = itr.next                      # We keep on iterating until we reach the end and that's where we plug in our incoming data.\n",
        "\n",
        "        itr.next = Node(data, None)             # Data is inserted at the end with no 'next' value.\n",
        "        \n",
        "    def insert_values(self, data_list):\n",
        "        self.head = None\n",
        "        for data in data_list:\n",
        "            self.insert_at_end(data)\n",
        "\n",
        "    # get the number of items present in the linked list.\n",
        "    def get_length(self):       \n",
        "        count = 0\n",
        "        current = self.head\n",
        "        while current:\n",
        "            count += 1\n",
        "            current = current.next\n",
        "        return count\n",
        "\n",
        "    def remove_at(self, index):\n",
        "        if index < 0 and index >= self.get_length():\n",
        "            raise Exception(\"invalid Index.\")\n",
        "        \n",
        "        if index == 0:                          # If we want to remove the head (0th element).\n",
        "            self.head = self.head.next          # We casually shift the head element to the next node of the previous head.\n",
        "            return\n",
        "\n",
        "        ii = 0\n",
        "        itr = self.head\n",
        "        while itr:\n",
        "            if ii == index - 1:                 # Pointer of the element before the target element will point to the NEXT element of the target. \n",
        "                itr.next = itr.next.next\n",
        "                break\n",
        "\n",
        "            itr = itr.next\n",
        "            ii += 1"
      ],
      "execution_count": null,
      "outputs": []
    },
    {
      "cell_type": "code",
      "metadata": {
        "id": "eaKW2j7SJSHC",
        "outputId": "56f6a102-d808-4c90-9dd0-64d8276b854f",
        "colab": {
          "base_uri": "https://localhost:8080/",
          "height": 69
        }
      },
      "source": [
        "ll = LinkedList()\n",
        "ll.insert_values(['apple', 'ball', 'cat', 'dog'])\n",
        "ll.print()\n",
        "print(\"after deleting element at index 2.\")\n",
        "ll.remove_at(2)\n",
        "ll.print()"
      ],
      "execution_count": null,
      "outputs": [
        {
          "output_type": "stream",
          "text": [
            "apple --> ball --> cat --> dog --> NULL\n",
            "after deleting element at index 2.\n",
            "apple --> ball --> dog --> NULL\n"
          ],
          "name": "stdout"
        }
      ]
    },
    {
      "cell_type": "markdown",
      "metadata": {
        "id": "TLqyNDrSKGa5"
      },
      "source": [
        "### Insert value at any index."
      ]
    },
    {
      "cell_type": "code",
      "metadata": {
        "id": "scSeZsHRKLZw"
      },
      "source": [
        "class Node:\n",
        "    '''A node is fundamentally made up of a data and a pointer to the next node.'''\n",
        "    def __init__(self, data = None, next = None):\n",
        "        self.data = data\n",
        "        self.next = next\n",
        "\n",
        "class LinkedList:\n",
        "    def __init__(self):\n",
        "        self.head = None                        # Initially, the head is empty because the LL is empty.\n",
        "\n",
        "    def insert_at_beginning(self, data):\n",
        "        node = Node(data, next = self.head)     # Insert a data at the beginning and its pointer points to the previous head element (if any).\n",
        "        self.head = node                        # The newly inserted data at the beginning becomes the new head element.\n",
        "\n",
        "    def print(self):\n",
        "        if self.head is None:\n",
        "            print('Lineked list is empty.')     # Head is not assigned ==> LL is empty.\n",
        "            return\n",
        "        \n",
        "        itr = self.head                         # current node (starts from the head).\n",
        "        LLstr = ''\n",
        "\n",
        "        while itr:\n",
        "            LLstr += str(itr.data) + ' --> '\n",
        "            itr = itr.next                      # forward passing.\n",
        "        print(LLstr + 'NULL')\n",
        "\n",
        "    def insert_at_end(self, data):\n",
        "        if self.head is None:                   # If there are no elements in the LL.\n",
        "            self.head = Node(data, None)        # this incoming data will be the first data point in the ll.\n",
        "            return\n",
        "        \n",
        "        itr = self.head\n",
        "        while itr.next:                         # Means 'until the next item has some value'. If itr.next is None, the we have reached the last node.\n",
        "            itr = itr.next                      # We keep on iterating until we reach the end and that's where we plug in our incoming data.\n",
        "\n",
        "        itr.next = Node(data, None)             # Data is inserted at the end with no 'next' value.\n",
        "        \n",
        "    def insert_values(self, data_list):\n",
        "        self.head = None\n",
        "        for data in data_list:\n",
        "            self.insert_at_end(data)\n",
        "\n",
        "    # get the number of items present in the linked list.\n",
        "    def get_length(self):       \n",
        "        count = 0\n",
        "        current = self.head\n",
        "        while current:\n",
        "            count += 1\n",
        "            current = current.next\n",
        "        return count\n",
        "\n",
        "    def remove_at(self, index):\n",
        "        if index < 0 and index >= self.get_length():\n",
        "            raise Exception(\"invalid Index.\")\n",
        "        \n",
        "        if index == 0:                          # If we want to remove the head (0th element).\n",
        "            self.head = self.head.next          # We casually shift the head element to the next node of the previous head.\n",
        "            return\n",
        "\n",
        "        ii = 0\n",
        "        itr = self.head\n",
        "        while itr:\n",
        "            if ii == index - 1:                 # Pointer of the element before the target element will point to the NEXT element of the target. \n",
        "                itr.next = itr.next.next\n",
        "                break\n",
        "\n",
        "            itr = itr.next\n",
        "            ii += 1\n",
        "\n",
        "    def insert_at(self, index, data):\n",
        "        if index < 0 and index >= self.get_length():\n",
        "            raise Exception(\"Invalid Index.\")\n",
        "        \n",
        "        if index == 0:                          \n",
        "            self.head = self.insert_at_beginning(data)\n",
        "            return\n",
        "\n",
        "        ii = 0\n",
        "        itr = self.head\n",
        "        while itr:\n",
        "            if ii == index - 1:                 # Pointer of the element before the target element will point to the target element and the NEXT node of this element will point to the element after the target element.\n",
        "                new_node = Node(data, itr.next) # We are at the previous node in this iteration. So, for the new node, our pointer will point at the next element. \n",
        "                itr.next = new_node\n",
        "                break\n",
        "            itr = itr.next\n",
        "            ii += 1"
      ],
      "execution_count": null,
      "outputs": []
    },
    {
      "cell_type": "code",
      "metadata": {
        "id": "rOxt6m8bOEwi",
        "outputId": "2fa29200-60e2-413e-877a-2c9d1b86f708",
        "colab": {
          "base_uri": "https://localhost:8080/",
          "height": 141
        }
      },
      "source": [
        "ll = LinkedList()\n",
        "ll.insert_values(['apple', 'ball', 'cat', 'dog'])\n",
        "ll.print()\n",
        "print(\"\\nafter inserting element at index 2.\")\n",
        "ll.insert_at(2, 'coconut')\n",
        "ll.print()\n",
        "print('\\nafter inserting the element at the end.')\n",
        "ll.insert_at(ll.get_length(), 'Zebra')\n",
        "ll.print()\n"
      ],
      "execution_count": null,
      "outputs": [
        {
          "output_type": "stream",
          "text": [
            "apple --> ball --> cat --> dog --> NULL\n",
            "\n",
            "after inserting element at index 2.\n",
            "apple --> ball --> coconut --> cat --> dog --> NULL\n",
            "\n",
            "after inserting the element at the end.\n",
            "apple --> ball --> coconut --> cat --> dog --> Zebra --> NULL\n"
          ],
          "name": "stdout"
        }
      ]
    },
    {
      "cell_type": "markdown",
      "metadata": {
        "id": "q5oe8UHsROi2"
      },
      "source": [
        "# Problems."
      ]
    },
    {
      "cell_type": "markdown",
      "metadata": {
        "id": "q14UHlolRSC9"
      },
      "source": [
        "## In LinkedList class that we implemented in our tutorial add following two methods:\n",
        "def insert_after_value(self, data_after, data_to_insert):\n",
        "    # Search for first occurance of data_after value in linked list\n",
        "    # Now insert data_to_insert after data_after node\n",
        "\n",
        "def remove_by_value(self, data):\n",
        "    # Remove first node that contains data\n",
        "Now make following calls:\n",
        "\n",
        "    ll = LinkedList()\n",
        "    ll.insert_values([\"banana\",\"mango\",\"grapes\",\"orange\"])\n",
        "    ll.print()\n",
        "    ll.insert_after_value(\"mango\",\"apple\") # insert apple after mango\n",
        "    ll.print()\n",
        "    ll.remove_by_value(\"orange\") # remove orange from linked list\n",
        "    ll.print()\n",
        "    ll.remove_by_value(\"figs\")\n",
        "    ll.print()\n",
        "    ll.remove_by_value(\"banana\")\n",
        "    ll.remove_by_value(\"mango\")\n",
        "    ll.remove_by_value(\"apple\")\n",
        "    ll.remove_by_value(\"grapes\")\n",
        "    ll.print()"
      ]
    },
    {
      "cell_type": "code",
      "metadata": {
        "id": "ghfsSHwHOUv0",
        "outputId": "da271a13-ba5f-4ad6-9121-55b18e7910d4",
        "colab": {
          "base_uri": "https://localhost:8080/",
          "height": 71
        }
      },
      "source": [
        "class Node:\n",
        "    '''A node is fundamentally made up of a data and a pointer to the next node.'''\n",
        "    def __init__(self, data = None, next = None):\n",
        "        self.data = data\n",
        "        self.next = next\n",
        "\n",
        "class LinkedList:\n",
        "    def __init__(self):\n",
        "        self.head = None                        # Initially, the head is empty because the LL is empty.\n",
        "\n",
        "    def insert_at_beginning(self, data):\n",
        "        node = Node(data, next = self.head)     # Insert a data at the beginning and its pointer points to the previous head element (if any).\n",
        "        self.head = node                        # The newly inserted data at the beginning becomes the new head element.\n",
        "\n",
        "    def print(self):\n",
        "        if self.head is None:\n",
        "            print('Lineked list is empty.')     # Head is not assigned ==> LL is empty.\n",
        "            return\n",
        "        \n",
        "        itr = self.head                         # current node (starts from the head).\n",
        "        LLstr = ''\n",
        "\n",
        "        while itr:\n",
        "            LLstr += str(itr.data) + ' --> '\n",
        "            itr = itr.next                      # forward passing.\n",
        "        print(LLstr + 'NULL')\n",
        "\n",
        "    def insert_at_end(self, data):\n",
        "        if self.head is None:                   # If there are no elements in the LL.\n",
        "            self.head = Node(data, None)        # this incoming data will be the first data point in the ll.\n",
        "            return\n",
        "        \n",
        "        itr = self.head\n",
        "        while itr.next:                         # Means 'until the next item has some value'. If itr.next is None, the we have reached the last node.\n",
        "            itr = itr.next                      # We keep on iterating until we reach the end and that's where we plug in our incoming data.\n",
        "\n",
        "        itr.next = Node(data, None)             # Data is inserted at the end with no 'next' value.\n",
        "        \n",
        "    def insert_values(self, data_list):\n",
        "        self.head = None\n",
        "        for data in data_list:\n",
        "            self.insert_at_end(data)\n",
        "\n",
        "    # get the number of items present in the linked list.\n",
        "    def get_length(self):       \n",
        "        count = 0\n",
        "        current = self.head\n",
        "        while current:\n",
        "            count += 1\n",
        "            current = current.next\n",
        "        return count\n",
        "\n",
        "    def remove_at(self, index):\n",
        "        if index < 0 and index >= self.get_length():\n",
        "            raise Exception(\"invalid Index.\")\n",
        "        \n",
        "        if index == 0:                          # If we want to remove the head (0th element).\n",
        "            self.head = self.head.next          # We casually shift the head element to the next node of the previous head.\n",
        "            return\n",
        "\n",
        "        ii = 0\n",
        "        itr = self.head\n",
        "        while itr:\n",
        "            if ii == index - 1:                 # Pointer of the element before the target element will point to the NEXT element of the target. \n",
        "                itr.next = itr.next.next\n",
        "                break\n",
        "\n",
        "            itr = itr.next\n",
        "            ii += 1\n",
        "\n",
        "    def insert_at(self, index, data):\n",
        "        if index < 0 and index >= self.get_length():\n",
        "            raise Exception(\"Invalid Index.\")\n",
        "        \n",
        "        if index == 0:                          \n",
        "            self.head = self.insert_at_beginning(data)\n",
        "            return\n",
        "\n",
        "        ii = 0\n",
        "        itr = self.head\n",
        "        while itr:\n",
        "            if ii == index - 1:                 # Pointer of the element before the target element will point to the target element and the NEXT node of this element will point to the element after the target element.\n",
        "                new_node = Node(data, itr.next) # We are at the previous node in this iteration. So, for the new node, our pointer will point at the next element. \n",
        "                itr.next = new_node\n",
        "                break\n",
        "            itr = itr.next\n",
        "            ii += 1\n",
        "\n",
        "    def insert_after_value(self, data_after, data_to_insert):\n",
        "        if self.head is None:\n",
        "            raise Exception('Linked List is empty.')\n",
        "\n",
        "        if self.head.data == data_after:\n",
        "            new_node = Node(data_to_insert, self.head.next)\n",
        "            self.head.next = new_node\n",
        "            return\n",
        "        \n",
        "        itr = self.head\n",
        "        while itr:\n",
        "            if itr.data == data_after:                 \n",
        "                new_node = Node(data_to_insert, itr.next) # We are at the previous node in this iteration. So, for the new node, our pointer will point at the next element. \n",
        "                itr.next = new_node\n",
        "                break\n",
        "            itr = itr.next\n",
        "\n",
        "    def remove_by_value(self, data_to_delete):\n",
        "        if self.head is None:\n",
        "            return\n",
        "\n",
        "        if self.head.data == data_to_delete:\n",
        "            self.head = self.head.next\n",
        "\n",
        "        itr1 = self.head\n",
        "        itr2 = self.head.next\n",
        "        while itr2:\n",
        "            if itr2.data == data_to_delete:                 # Pointer of the element before the target element will point to the NEXT element of the target. \n",
        "                itr1.next = itr1.next.next\n",
        "                break\n",
        "\n",
        "            itr2 = itr2.next\n",
        "            itr1 = itr1.next\n",
        "'''\n",
        "# Better method.\n",
        "    def remove_by_value(self, data_to_delete):\n",
        "        if self.head is None:\n",
        "            return\n",
        "\n",
        "        if self.head.data == data_to_delete:\n",
        "            self.head = self.head.next\n",
        "\n",
        "        itr = self.head\n",
        "        while itr.next:\n",
        "            if itr.next == data_to_delete:\n",
        "                itr.next = itr.next.next\n",
        "                break\n",
        "            itr = itr.next    \n",
        "'''\n",
        "\n",
        "    "
      ],
      "execution_count": null,
      "outputs": [
        {
          "output_type": "execute_result",
          "data": {
            "application/vnd.google.colaboratory.intrinsic+json": {
              "type": "string"
            },
            "text/plain": [
              "'\\nBetter method.\\n    def remove_by_value(self, data_to_delete):\\n        if self.head is None:\\n            return\\n\\n        if self.head.data == data_to_delete:\\n            self.head = self.head.next\\n\\n        itr = self.head\\n        while itr.next:\\n            if itr.next == data_to_delete:\\n                itr.next = itr.next.next\\n                break\\n            itr = itr.next    \\n'"
            ]
          },
          "metadata": {
            "tags": []
          },
          "execution_count": 18
        }
      ]
    },
    {
      "cell_type": "code",
      "metadata": {
        "id": "MDISN4AY7wLV",
        "outputId": "c032b9a7-84ea-4f20-b86b-845634a9bd8c",
        "colab": {
          "base_uri": "https://localhost:8080/",
          "height": 106
        }
      },
      "source": [
        "ll = LinkedList()\n",
        "ll.insert_values([\"banana\",\"mango\",\"grapes\",\"orange\", \"figs\"])\n",
        "ll.print()\n",
        "ll.insert_after_value(\"mango\",\"apple\") # insert apple after mango\n",
        "ll.print()\n",
        "ll.remove_by_value(\"orange\") # remove orange from linked list\n",
        "ll.print()\n",
        "ll.remove_by_value(\"figs\")\n",
        "ll.print()\n",
        "ll.remove_by_value(\"banana\")\n",
        "ll.print()"
      ],
      "execution_count": null,
      "outputs": [
        {
          "output_type": "stream",
          "text": [
            "banana --> mango --> grapes --> orange --> figs --> NULL\n",
            "banana --> mango --> apple --> grapes --> orange --> figs --> NULL\n",
            "banana --> mango --> apple --> grapes --> figs --> NULL\n",
            "banana --> mango --> apple --> grapes --> NULL\n",
            "mango --> apple --> grapes --> NULL\n"
          ],
          "name": "stdout"
        }
      ]
    },
    {
      "cell_type": "markdown",
      "metadata": {
        "id": "CuUshns5R105"
      },
      "source": [
        "## Implement doubly linked list. The only difference with regular linked list is that double linked has prev node reference as well. That way you can iterate in forward and backward direction. Your node class will look this this,\n",
        "class Node:<br>\n",
        "    def __init__(self, data=None, next=None, prev=None):\n",
        "        # self.data = data\n",
        "        # self.next = next\n",
        "        # self.prev = prev\n",
        "Add following new methods,\n",
        "\n",
        "def print_forward(self):\n",
        "    # This method prints list in forward direction. Use node.next\n",
        "\n",
        "def print_backward(self):\n",
        "    # Print linked list in reverse direction. Use node.prev for this.\n",
        "Implement all other methods in regular linked list class and make necessary changes for doubly linked list (you need to populate node.prev in all those methods).\n"
      ]
    },
    {
      "cell_type": "code",
      "metadata": {
        "id": "W0RTBoZIJ6qy"
      },
      "source": [
        "class Node:\n",
        "    def __init__(self, data=None, next=None, prev=None):\n",
        "        self.data = data\n",
        "        self.next = next\n",
        "        self.prev = prev\n",
        "\n",
        "class DoublyLinkedList:\n",
        "    def __init__(self):\n",
        "        self.head = None\n",
        "\n",
        "    def print_forward(self):\n",
        "        if self.head is None:\n",
        "            print(\"Linked list is empty\")\n",
        "            return\n",
        "\n",
        "        itr = self.head\n",
        "        llstr = ''\n",
        "        while itr:\n",
        "            llstr += str(itr.data) + ' --> '\n",
        "            itr = itr.next\n",
        "        print(llstr)\n",
        "\n",
        "    def print_backward(self):\n",
        "        if self.head is None:\n",
        "            print(\"Linked list is empty\")\n",
        "            return\n",
        "\n",
        "        last_node = self.get_last_node()\n",
        "        itr = last_node\n",
        "        llstr = ''\n",
        "        while itr:\n",
        "            llstr += itr.data + '-->'\n",
        "            itr = itr.prev\n",
        "        print(\"Link list in reverse: \", llstr)\n",
        "\n",
        "    def get_last_node(self):\n",
        "        itr = self.head\n",
        "        while itr.next:\n",
        "            itr = itr.next\n",
        "\n",
        "        return itr\n",
        "\n",
        "    def get_length(self):\n",
        "        count = 0\n",
        "        itr = self.head\n",
        "        while itr:\n",
        "            count+=1\n",
        "            itr = itr.next\n",
        "\n",
        "        return count\n",
        "\n",
        "    def insert_at_begining(self, data):\n",
        "        node = Node(data, self.head, None)\n",
        "        self.head.prev = node\n",
        "        self.head = node\n",
        "\n",
        "    def insert_at_end(self, data):\n",
        "        if self.head is None:\n",
        "            self.head = Node(data, None, None)\n",
        "            return\n",
        "\n",
        "        itr = self.head\n",
        "\n",
        "        while itr.next:\n",
        "            itr = itr.next\n",
        "\n",
        "        itr.next = Node(data, None, itr)\n",
        "\n",
        "    def insert_at(self, index, data):\n",
        "        if index<0 or index>self.get_length():\n",
        "            raise Exception(\"Invalid Index\")\n",
        "\n",
        "        if index==0:\n",
        "            self.insert_at_begining(data)\n",
        "            return\n",
        "\n",
        "        count = 0\n",
        "        itr = self.head\n",
        "        while itr:\n",
        "            if count == index - 1:\n",
        "                node = Node(data, itr.next, itr)\n",
        "                if node.next:\n",
        "                    node.next.prev = node\n",
        "                itr.next = node\n",
        "                break\n",
        "\n",
        "            itr = itr.next\n",
        "            count += 1\n",
        "\n",
        "    def remove_at(self, index):\n",
        "        if index<0 or index>=self.get_length():\n",
        "            raise Exception(\"Invalid Index\")\n",
        "\n",
        "        if index==0:\n",
        "            self.head = self.head.next\n",
        "            self.head.prev = None\n",
        "            return\n",
        "\n",
        "        count = 0\n",
        "        itr = self.head\n",
        "        while itr:\n",
        "            if count == index:\n",
        "                itr.prev.next = itr.next\n",
        "                if itr.next:\n",
        "                    itr.next.prev = itr.prev\n",
        "                break\n",
        "\n",
        "            itr = itr.next\n",
        "            count+=1\n",
        "\n",
        "    def insert_values(self, data_list):\n",
        "        self.head = None\n",
        "        for data in data_list:\n",
        "            self.insert_at_end(data)\n",
        "\n"
      ],
      "execution_count": null,
      "outputs": []
    },
    {
      "cell_type": "code",
      "metadata": {
        "id": "FsvtHk_4M9xI",
        "outputId": "5b06eac5-56a2-4a60-8f26-cab8e48e63c9",
        "colab": {
          "base_uri": "https://localhost:8080/",
          "height": 124
        }
      },
      "source": [
        "if __name__ == '__main__':\n",
        "    ll = DoublyLinkedList()\n",
        "    ll.insert_values([\"banana\",\"mango\",\"grapes\",\"orange\"])\n",
        "    ll.print_forward()\n",
        "    ll.print_backward()\n",
        "    ll.insert_at_end(\"figs\")\n",
        "    ll.print_forward()\n",
        "    ll.insert_at(0,\"jackfruit\")\n",
        "    ll.print_forward()\n",
        "    ll.insert_at(6,\"dates\")\n",
        "    ll.print_forward()\n",
        "    ll.insert_at(2,\"kiwi\")\n",
        "    ll.print_forward()\n"
      ],
      "execution_count": null,
      "outputs": [
        {
          "output_type": "stream",
          "text": [
            "banana --> mango --> grapes --> orange --> \n",
            "Link list in reverse:  orange-->grapes-->mango-->banana-->\n",
            "banana --> mango --> grapes --> orange --> figs --> \n",
            "jackfruit --> banana --> mango --> grapes --> orange --> figs --> \n",
            "jackfruit --> banana --> mango --> grapes --> orange --> figs --> dates --> \n",
            "jackfruit --> banana --> kiwi --> mango --> grapes --> orange --> figs --> dates --> \n"
          ],
          "name": "stdout"
        }
      ]
    }
  ]
}