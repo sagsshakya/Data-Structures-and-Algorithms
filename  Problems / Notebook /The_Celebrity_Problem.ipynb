{
  "nbformat": 4,
  "nbformat_minor": 0,
  "metadata": {
    "colab": {
      "name": "The Celebrity Problem.ipynb",
      "provenance": [],
      "collapsed_sections": [],
      "authorship_tag": "ABX9TyNAHInjr+ZX3rtlFbmN2K1j",
      "include_colab_link": true
    },
    "kernelspec": {
      "name": "python3",
      "display_name": "Python 3"
    }
  },
  "cells": [
    {
      "cell_type": "markdown",
      "metadata": {
        "id": "view-in-github",
        "colab_type": "text"
      },
      "source": [
        "<a href=\"https://colab.research.google.com/github/sagsshakya/Data-Structures-and-Algorithms/blob/master/%20Problems%20/%20Notebook%20/The_Celebrity_Problem.ipynb\" target=\"_parent\"><img src=\"https://colab.research.google.com/assets/colab-badge.svg\" alt=\"Open In Colab\"/></a>"
      ]
    },
    {
      "cell_type": "markdown",
      "metadata": {
        "id": "EOJ5YJCpP3Mm"
      },
      "source": [
        "# The Celebrity Problem:\n",
        "In a party of N people, only one person is known to everyone. Such a person may be present in the party, if yes, (s)he doesn’t know anyone in the party. We can only ask questions like “does A know B? “. Find the stranger (celebrity) in the minimum number of questions.\n",
        "\n",
        "We can describe the problem input as an array of numbers/characters representing persons in the party. We also have a hypothetical function HaveAcquaintance(A, B) which returns true if A knows B, false otherwise. How can we solve the problem.\n",
        "Examples:\n",
        "\n",
        "    Input:\n",
        "    MATRIX = { {0, 0, 1, 0},\n",
        "            {0, 0, 1, 0},\n",
        "            {0, 0, 0, 0},\n",
        "            {0, 0, 1, 0} }\n",
        "    Output:id = 2\n",
        "Explanation: The person with ID 2 does not \n",
        "know anyone but everyone knows him\n",
        "\n",
        "    Input:\n",
        "    MATRIX = { {0, 0, 1, 0},\n",
        "            {0, 0, 1, 0},\n",
        "            {0, 1, 0, 0},\n",
        "            {0, 0, 1, 0} }\n",
        "    Output: No celebrity\n",
        "Explanation: There is no celebrity."
      ]
    },
    {
      "cell_type": "code",
      "metadata": {
        "id": "Ep0a10XbQHhH"
      },
      "source": [
        "arr1 = [[1,0,1,0], [0,0,1,0], [0,0,0,0], [0,0,1,0]]\n",
        "arr2 = [[1,0,1,0], [0,0,1,0], [0,1,0,0], [0,0,1,0]]"
      ],
      "execution_count": 25,
      "outputs": []
    },
    {
      "cell_type": "markdown",
      "metadata": {
        "id": "ZnP14mwjTL4f"
      },
      "source": [
        "# Stupid Method."
      ]
    },
    {
      "cell_type": "code",
      "metadata": {
        "id": "NvMINfD5QmY6",
        "outputId": "040014fe-fc10-408d-cc9e-8b31943c2935",
        "colab": {
          "base_uri": "https://localhost:8080/",
          "height": 52
        }
      },
      "source": [
        "def find_celebrity(arr):\n",
        "    for ii in range(len(arr)):\n",
        "        if arr[ii] == [0] * len(arr):\n",
        "            return ii\n",
        "    return None\n",
        "\n",
        "print(find_celebrity(arr1))\n",
        "print(find_celebrity(arr2))"
      ],
      "execution_count": 7,
      "outputs": [
        {
          "output_type": "stream",
          "text": [
            "2\n",
            "None\n"
          ],
          "name": "stdout"
        }
      ]
    },
    {
      "cell_type": "markdown",
      "metadata": {
        "id": "ZwkF0MxUTObV"
      },
      "source": [
        "# Using Stacks."
      ]
    },
    {
      "cell_type": "code",
      "metadata": {
        "id": "n2ZbqVR2UUc7"
      },
      "source": [
        "arr1 = [[1,0,1,0], [0,0,1,0], [0,0,0,0], [0,0,1,0]]\n",
        "arr2 = [[1,0,1,0], [0,0,1,0], [0,1,0,0], [0,0,1,0]]"
      ],
      "execution_count": 64,
      "outputs": []
    },
    {
      "cell_type": "code",
      "metadata": {
        "id": "ymhDgkVNTyKf"
      },
      "source": [
        "# Defining the stack class to be used later.\n",
        "class Stack:\n",
        "    def __init__(self):\n",
        "        self.data = []\n",
        "\n",
        "    def push(self, value):\n",
        "        self.data.append(value)\n",
        "    \n",
        "    def pop(self):\n",
        "        return self.data.pop()\n",
        "        \n",
        "    def __len__(self):\n",
        "        return len(self.data)"
      ],
      "execution_count": 18,
      "outputs": []
    },
    {
      "cell_type": "code",
      "metadata": {
        "id": "i06B5DLaQnxq"
      },
      "source": [
        "def find_celebrity(arra):\n",
        "    def knows(a,b):\n",
        "        '''a and b are the indices of A and B. gives A knows B in Boolean.'''\n",
        "        return bool(arra[a][b])\n",
        "\n",
        "\n",
        "    s = Stack()\n",
        "    for ii in range(len(arra)):\n",
        "        s.push(ii)\n",
        "\n",
        "    while len(s)>1:\n",
        "        a = s.pop()\n",
        "        b = s.pop()\n",
        "\n",
        "        # if A knows B, then, A can't be a celeb.\n",
        "        # So, we push B in the stack.\n",
        "        if (knows(a,b)):\n",
        "            s.push(b)\n",
        "\n",
        "        # if A does not know B, then, B can't be a celeb.\n",
        "        # So, we push A in the stack.\n",
        "\n",
        "        else:\n",
        "            s.push(a)\n",
        "\n",
        "    print(s.print())\n",
        "    # An element remains in the stack which would get unexamined when we run above code.\n",
        "    # To verify it's identity, we do the following.\n",
        "    assert(len(s) == 1)                                 # only one element will remain.\n",
        "    top = s.pop()                                       # current element of concern.\n",
        "    print('a', a)\n",
        "    print('b', b)\n",
        "\n",
        "    # Examining against A and B.\n",
        "    if knows(top, a):                                   \n",
        "        top = a\n",
        "    if knows(top,b):\n",
        "        top = b\n",
        "\n",
        "    # Check whether top is NOT a celeb.\n",
        "    for ii in range(len(arra)):\n",
        "        if (ii != top):\n",
        "            if (knows(top, ii) or (not knows(ii , top))):\n",
        "                return -1\n",
        "    return top    \n"
      ],
      "execution_count": 62,
      "outputs": []
    },
    {
      "cell_type": "code",
      "metadata": {
        "id": "8IZQomiqUQvK",
        "outputId": "a6a2b9dd-efdd-42d0-fd6b-12ee29091c12",
        "colab": {
          "base_uri": "https://localhost:8080/",
          "height": 87
        }
      },
      "source": [
        "find_celebrity(arr1)"
      ],
      "execution_count": 66,
      "outputs": [
        {
          "output_type": "stream",
          "text": [
            "[2]\n",
            "a 2\n",
            "b 0\n"
          ],
          "name": "stdout"
        },
        {
          "output_type": "execute_result",
          "data": {
            "text/plain": [
              "2"
            ]
          },
          "metadata": {
            "tags": []
          },
          "execution_count": 66
        }
      ]
    },
    {
      "cell_type": "code",
      "metadata": {
        "id": "Ylb6rPPngHf9",
        "outputId": "67c8387e-a24a-4e50-93c8-25dec76b7178",
        "colab": {
          "base_uri": "https://localhost:8080/",
          "height": 87
        }
      },
      "source": [
        "find_celebrity(arr2)"
      ],
      "execution_count": 67,
      "outputs": [
        {
          "output_type": "stream",
          "text": [
            "[1]\n",
            "a 1\n",
            "b 0\n"
          ],
          "name": "stdout"
        },
        {
          "output_type": "execute_result",
          "data": {
            "text/plain": [
              "-1"
            ]
          },
          "metadata": {
            "tags": []
          },
          "execution_count": 67
        }
      ]
    }
  ]
}