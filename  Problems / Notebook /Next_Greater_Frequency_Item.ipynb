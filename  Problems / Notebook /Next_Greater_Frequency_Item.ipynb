{
  "nbformat": 4,
  "nbformat_minor": 0,
  "metadata": {
    "colab": {
      "name": "Next Greater Frequency Item.ipynb",
      "provenance": [],
      "collapsed_sections": [],
      "authorship_tag": "ABX9TyMKjcqIWty1nVgP5U56QGKE",
      "include_colab_link": true
    },
    "kernelspec": {
      "name": "python3",
      "display_name": "Python 3"
    }
  },
  "cells": [
    {
      "cell_type": "markdown",
      "metadata": {
        "id": "view-in-github",
        "colab_type": "text"
      },
      "source": [
        "<a href=\"https://colab.research.google.com/github/sagsshakya/Data-Structures-and-Algorithms/blob/master/%20Problems%20/%20Notebook%20/Next_Greater_Frequency_Item.ipynb\" target=\"_parent\"><img src=\"https://colab.research.google.com/assets/colab-badge.svg\" alt=\"Open In Colab\"/></a>"
      ]
    },
    {
      "cell_type": "markdown",
      "metadata": {
        "id": "XOkfLV-Wvbm3"
      },
      "source": [
        "# Next Greater Frequency Element.\n",
        "\n",
        "Given an array, for each element find the value of the nearest element to the right which is having a frequency greater than as that of the current element. If there does not exist an answer for a position, then make the value ‘-1’.\n",
        "\n",
        "Examples: \n",
        "\n",
        "- Input : a[] = [1, 1, 2, 3, 4, 2, 1] \n",
        "- Output : [-1, -1, 1, 2, 2, 1, -1]\n",
        "- Explanation:\n",
        "- Given array a[] = [1, 1, 2, 3, 4, 2, 1] \n",
        "- Frequency of each element is: 3, 3, 2, 1, 1, 2, 3\n",
        "- Lets calls Next Greater Frequency element as NGF\n",
        "1. For element a[0] = 1 which has a frequency = 3,\n",
        "   As it has frequency of 3 and no other next element \n",
        "   has frequency more than 3 so  '-1'\n",
        "2. For element a[1] = 1 it will be -1 same logic \n",
        "   like a[0]\n",
        "3. For element a[2] = 2 which has frequency = 2,\n",
        "   NGF element is 1 at position = 6  with frequency \n",
        "   of 3 > 2\n",
        "4. For element a[3] = 3 which has frequency = 1,\n",
        "   NGF element is 2 at position = 5 with frequency \n",
        "   of 2 > 1\n",
        "5. For element a[4] = 4 which has frequency = 1,\n",
        "   NGF element is 2 at position = 5 with frequency \n",
        "   of 2 > 1\n",
        "6. For element a[5] = 2 which has frequency = 2,\n",
        "   NGF element is 1 at position = 6 with frequency\n",
        "   of 3 > 2\n",
        "7. For element a[6] = 1 there is no element to its \n",
        "   right, hence -1 \n",
        "\n",
        "- Input : a[] = [1, 1, 1, 2, 2, 2, 2, 11, 3, 3]\n",
        "- Output : [2, 2, 2, -1, -1, -1, -1, 3, -1, -1]"
      ]
    },
    {
      "cell_type": "code",
      "metadata": {
        "id": "8b_v8hSovkNE",
        "outputId": "7a25e2aa-4a5c-4d93-8568-f36293ba5ad7",
        "colab": {
          "base_uri": "https://localhost:8080/",
          "height": 34
        }
      },
      "source": [
        "arr = [1,1,2,3,4,2,1]\n",
        "arr"
      ],
      "execution_count": 1,
      "outputs": [
        {
          "output_type": "execute_result",
          "data": {
            "text/plain": [
              "[1, 1, 2, 3, 4, 2, 1]"
            ]
          },
          "metadata": {
            "tags": []
          },
          "execution_count": 1
        }
      ]
    },
    {
      "cell_type": "markdown",
      "metadata": {
        "id": "7WD28RPbJ58-"
      },
      "source": [
        "# Using Naive Approach:\n",
        "    Time Complexity: O(n^2)"
      ]
    },
    {
      "cell_type": "code",
      "metadata": {
        "id": "9xf6iE_lwaUT",
        "outputId": "1ca73afb-3522-4766-a0bf-6670d44efa6e",
        "colab": {
          "base_uri": "https://localhost:8080/",
          "height": 34
        }
      },
      "source": [
        "def create_frequency_dict(arr):\n",
        "    new = dict()\n",
        "    for ii in arr:\n",
        "        if ii not in new.keys():\n",
        "            new[ii] = 1\n",
        "        else:\n",
        "            new[ii] += 1\n",
        "\n",
        "    return new\n",
        "\n",
        "track = create_frequency_dict(arr)\n",
        "\n",
        "#traversal.\n",
        "output = []\n",
        "for ii in range(0, len(arr) - 1):\n",
        "    for jj in range(ii, len(arr)):\n",
        "        if track[arr[jj]] > track[arr[ii]]:\n",
        "            output.append(arr[jj])\n",
        "            break\n",
        "        if jj == len(arr) -1:\n",
        "            output.append(-1)\n",
        "\n",
        "output.append(-1)                               # FOr the last element of the array.\n",
        "print(output)\n",
        "\n"
      ],
      "execution_count": 12,
      "outputs": [
        {
          "output_type": "stream",
          "text": [
            "[-1, -1, 1, 2, 2, 1, -1]\n"
          ],
          "name": "stdout"
        }
      ]
    },
    {
      "cell_type": "markdown",
      "metadata": {
        "id": "k8QJQphzKAoJ"
      },
      "source": [
        "# Optimized method using Hash Map and Stack.\n",
        "    Time Complexity: O(n)"
      ]
    },
    {
      "cell_type": "code",
      "metadata": {
        "id": "L5LUeM6zLSJB",
        "outputId": "5f03afc3-1de2-4c3a-f824-1ae05033e985",
        "colab": {
          "base_uri": "https://localhost:8080/",
          "height": 34
        }
      },
      "source": [
        "arr = [10,10,20,30,40,20,10]\n",
        "arr"
      ],
      "execution_count": 15,
      "outputs": [
        {
          "output_type": "execute_result",
          "data": {
            "text/plain": [
              "[10, 10, 20, 30, 40, 20, 10]"
            ]
          },
          "metadata": {
            "tags": []
          },
          "execution_count": 15
        }
      ]
    },
    {
      "cell_type": "code",
      "metadata": {
        "id": "nzfp8c5rzNAH"
      },
      "source": [
        "# Defining the stack class to be used later.\n",
        "class Stack:\n",
        "    def __init__(self):\n",
        "        self.data = []\n",
        "\n",
        "    def push(self, value):\n",
        "        self.data.append(value)\n",
        "    \n",
        "    def pop(self):\n",
        "        return self.data.pop()\n",
        "\n",
        "    def peek(self):\n",
        "        if not self.is_empty():\n",
        "            return self.data[-1]\n",
        "        else:\n",
        "            return None\n",
        "\n",
        "    def print(self):\n",
        "        return self.data\n",
        "\n",
        "    def is_empty(self):\n",
        "        return self.data == []"
      ],
      "execution_count": 14,
      "outputs": []
    },
    {
      "cell_type": "code",
      "metadata": {
        "id": "D-65o8eUKNj9",
        "outputId": "877306c4-f58c-43a2-8602-0b064203b6fa",
        "colab": {
          "base_uri": "https://localhost:8080/",
          "height": 34
        }
      },
      "source": [
        "# Hash map to store the frequency of the items.\n",
        "def create_frequency_dict(arr):\n",
        "    new = dict()\n",
        "    for ii in arr:\n",
        "        if ii not in new.keys():\n",
        "            new[ii] = 1\n",
        "        else:\n",
        "            new[ii] += 1\n",
        "\n",
        "    return new\n",
        "\n",
        "freq = create_frequency_dict(arr)\n",
        "\n",
        "# Creating an array to store the results.\n",
        "result = [-1] * len(arr)                        # initializing everything to -1.\n",
        "\n",
        "s = Stack()\n",
        "s.push(0)                                       # Pushing the index of the first element to stack.\n",
        "\n",
        "for ii in range(1, len(arr)):\n",
        "    if freq[arr[s.peek()]] >= freq[arr[ii]]:    # If the frequency of the element pointed by the top of the stack is greater than that of the ith element.\n",
        "        s.push(ii)                              # We push i into the stack and hence it becomes the top.\n",
        "\n",
        "    else:\n",
        "        while (freq[arr[s.peek()]] < freq[arr[ii]]) and (s.is_empty() == False):\n",
        "            top = s.pop()                       # Pop the top and update the result as result[top] = ...         \n",
        "            result[top] = arr[ii]               # Updation.\n",
        "        s.push(ii)                              # Pushing the current node to the stack.\n",
        "\n",
        "print(result)\n"
      ],
      "execution_count": 17,
      "outputs": [
        {
          "output_type": "stream",
          "text": [
            "[-1, -1, 10, 20, 20, 10, -1]\n"
          ],
          "name": "stdout"
        }
      ]
    }
  ]
}